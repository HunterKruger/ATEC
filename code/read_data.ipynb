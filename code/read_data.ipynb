{
 "cells": [
  {
   "cell_type": "code",
   "execution_count": 11,
   "metadata": {
    "collapsed": true
   },
   "outputs": [
    {
     "data": {
      "text/plain": "(39346, 3)"
     },
     "execution_count": 11,
     "metadata": {},
     "output_type": "execute_result"
    }
   ],
   "source": [
    "import pandas as pd\n",
    "df = pd.read_csv('../data/atec_nlp_sim_train.csv',sep='\\t',names=['id','s1','s2','label'])\n",
    "df.drop('id',axis=1, inplace=True)\n",
    "df.shape"
   ]
  },
  {
   "cell_type": "code",
   "execution_count": 12,
   "outputs": [
    {
     "data": {
      "text/plain": "0    30797\n1     8549\nName: label, dtype: int64"
     },
     "execution_count": 12,
     "metadata": {},
     "output_type": "execute_result"
    }
   ],
   "source": [
    "df.label.value_counts()\n"
   ],
   "metadata": {
    "collapsed": false,
    "pycharm": {
     "name": "#%%\n"
    }
   }
  },
  {
   "cell_type": "code",
   "execution_count": 13,
   "outputs": [
    {
     "data": {
      "text/plain": "(63131, 3)"
     },
     "execution_count": 13,
     "metadata": {},
     "output_type": "execute_result"
    }
   ],
   "source": [
    "df2 = pd.read_csv('../data/atec_nlp_sim_train_add.csv',sep='\\t',names=['id','s1','s2','label'])\n",
    "df2.drop('id',axis=1, inplace=True)\n",
    "df2.shape"
   ],
   "metadata": {
    "collapsed": false,
    "pycharm": {
     "name": "#%%\n"
    }
   }
  },
  {
   "cell_type": "code",
   "execution_count": 14,
   "outputs": [
    {
     "data": {
      "text/plain": "0    52995\n1    10136\nName: label, dtype: int64"
     },
     "execution_count": 14,
     "metadata": {},
     "output_type": "execute_result"
    }
   ],
   "source": [
    "df2.label.value_counts()"
   ],
   "metadata": {
    "collapsed": false,
    "pycharm": {
     "name": "#%%\n"
    }
   }
  },
  {
   "cell_type": "code",
   "execution_count": 15,
   "outputs": [
    {
     "data": {
      "text/plain": "(102477, 3)"
     },
     "execution_count": 15,
     "metadata": {},
     "output_type": "execute_result"
    }
   ],
   "source": [
    "df_all = pd.concat([df,df2],axis=0, ignore_index=True)\n",
    "df_all.shape"
   ],
   "metadata": {
    "collapsed": false,
    "pycharm": {
     "name": "#%%\n"
    }
   }
  },
  {
   "cell_type": "code",
   "execution_count": 16,
   "outputs": [
    {
     "data": {
      "text/plain": "(102477, 3)"
     },
     "execution_count": 16,
     "metadata": {},
     "output_type": "execute_result"
    }
   ],
   "source": [
    "df_all.drop_duplicates(inplace=True)\n",
    "df_all.shape"
   ],
   "metadata": {
    "collapsed": false,
    "pycharm": {
     "name": "#%%\n"
    }
   }
  },
  {
   "cell_type": "code",
   "execution_count": 17,
   "outputs": [
    {
     "data": {
      "text/plain": "((81981, 3), (20496, 3))"
     },
     "execution_count": 17,
     "metadata": {},
     "output_type": "execute_result"
    }
   ],
   "source": [
    "from sklearn.model_selection import train_test_split\n",
    "\n",
    "def split_df(df, test_ratio=0.2, target=None, random_state=1337):\n",
    "    \"\"\"\n",
    "    Split a dataset into training set and test set\n",
    "    df -> (train, test)\n",
    "       -> (X_train, X_test, y_train, y_test)\n",
    "    :param df: a DataFrame to be split\n",
    "    :param test_ratio: ratio of test set, 0-1\n",
    "    :param target:\n",
    "        split into (train, test) if not specified\n",
    "        split into (X_train, X_test, y_train, y_test) if specified\n",
    "    :param random_state: random state\n",
    "    \"\"\"\n",
    "    if target:\n",
    "        X = df.drop(target, axis=1, inplace=False)\n",
    "        y = df[target]\n",
    "        X_train, X_test, y_train, y_test = train_test_split(X, y, test_size=test_ratio, random_state=random_state)\n",
    "        return X_train, X_test, y_train, y_test\n",
    "    else:\n",
    "        train, test = train_test_split(df, test_size=test_ratio, random_state=random_state)\n",
    "        return train, test\n",
    "\n",
    "train, test = split_df(df_all)\n",
    "train.shape, test.shape"
   ],
   "metadata": {
    "collapsed": false,
    "pycharm": {
     "name": "#%%\n"
    }
   }
  },
  {
   "cell_type": "code",
   "execution_count": 18,
   "outputs": [],
   "source": [
    "train.to_csv('../data/train.csv', index=False,encoding='utf-8')\n",
    "test.to_csv('../data/test.csv', index=False,encoding='utf-8')\n",
    "\n",
    "df_all.to_csv('../data/all.csv', index=False,encoding='utf-8')"
   ],
   "metadata": {
    "collapsed": false,
    "pycharm": {
     "name": "#%%\n"
    }
   }
  },
  {
   "cell_type": "code",
   "execution_count": 19,
   "outputs": [
    {
     "data": {
      "text/plain": "                s1                              s2  label\n0      ﻿怎么更改花呗手机号码  我的花呗是以前的手机号码，怎么更改成现在的支付宝的号码手机号      1\n1  也开不了花呗，就这样了？完事了                      真的嘛？就是花呗付款      0\n2      花呗冻结以后还能开通吗                   我的条件可以开通花呗借款吗      0\n3         如何得知关闭借呗                         想永久关闭借呗      0\n4           花呗扫码付钱                     二维码扫描可以用花呗吗      0",
      "text/html": "<div>\n<style scoped>\n    .dataframe tbody tr th:only-of-type {\n        vertical-align: middle;\n    }\n\n    .dataframe tbody tr th {\n        vertical-align: top;\n    }\n\n    .dataframe thead th {\n        text-align: right;\n    }\n</style>\n<table border=\"1\" class=\"dataframe\">\n  <thead>\n    <tr style=\"text-align: right;\">\n      <th></th>\n      <th>s1</th>\n      <th>s2</th>\n      <th>label</th>\n    </tr>\n  </thead>\n  <tbody>\n    <tr>\n      <th>0</th>\n      <td>﻿怎么更改花呗手机号码</td>\n      <td>我的花呗是以前的手机号码，怎么更改成现在的支付宝的号码手机号</td>\n      <td>1</td>\n    </tr>\n    <tr>\n      <th>1</th>\n      <td>也开不了花呗，就这样了？完事了</td>\n      <td>真的嘛？就是花呗付款</td>\n      <td>0</td>\n    </tr>\n    <tr>\n      <th>2</th>\n      <td>花呗冻结以后还能开通吗</td>\n      <td>我的条件可以开通花呗借款吗</td>\n      <td>0</td>\n    </tr>\n    <tr>\n      <th>3</th>\n      <td>如何得知关闭借呗</td>\n      <td>想永久关闭借呗</td>\n      <td>0</td>\n    </tr>\n    <tr>\n      <th>4</th>\n      <td>花呗扫码付钱</td>\n      <td>二维码扫描可以用花呗吗</td>\n      <td>0</td>\n    </tr>\n  </tbody>\n</table>\n</div>"
     },
     "execution_count": 19,
     "metadata": {},
     "output_type": "execute_result"
    }
   ],
   "source": [
    "aa = pd.read_csv('../data/all.csv')\n",
    "aa.head()"
   ],
   "metadata": {
    "collapsed": false,
    "pycharm": {
     "name": "#%%\n"
    }
   }
  },
  {
   "cell_type": "code",
   "execution_count": 19,
   "outputs": [],
   "source": [],
   "metadata": {
    "collapsed": false,
    "pycharm": {
     "name": "#%%\n"
    }
   }
  }
 ],
 "metadata": {
  "kernelspec": {
   "name": "atec",
   "language": "python",
   "display_name": "atec"
  },
  "language_info": {
   "codemirror_mode": {
    "name": "ipython",
    "version": 2
   },
   "file_extension": ".py",
   "mimetype": "text/x-python",
   "name": "python",
   "nbconvert_exporter": "python",
   "pygments_lexer": "ipython2",
   "version": "2.7.6"
  }
 },
 "nbformat": 4,
 "nbformat_minor": 0
}