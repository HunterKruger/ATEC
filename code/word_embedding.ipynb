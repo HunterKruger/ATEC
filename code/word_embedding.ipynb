{
 "cells": [
  {
   "cell_type": "code",
   "execution_count": 1,
   "metadata": {
    "collapsed": true
   },
   "outputs": [
    {
     "data": {
      "text/plain": "                s1                              s2  label  len_s1  len_s2  \\\n0      ﻿怎么更改花呗手机号码  我的花呗是以前的手机号码，怎么更改成现在的支付宝的号码手机号      1      11      30   \n1  也开不了花呗，就这样了？完事了                      真的嘛？就是花呗付款      0      15      10   \n2      花呗冻结以后还能开通吗                   我的条件可以开通花呗借款吗      0      11      13   \n3         如何得知关闭借呗                         想永久关闭借呗      0       8       7   \n4           花呗扫码付钱                     二维码扫描可以用花呗吗      0       6      11   \n\n   len_s1s2_avg  len_s1_on_s2  len_diff  edit_dst  edit_dst_nzd  ... s1_ask  \\\n0          20.5      0.366667       -19        24      0.854167  ...   True   \n1          12.5      1.500000         5        14      0.892857  ...  False   \n2          12.0      0.846154        -2        11      1.090909  ...  False   \n3           7.5      1.142857         1         4      1.875000  ...   True   \n4           8.5      0.545455        -5        10      0.850000  ...  False   \n\n  s2_ask  len_l1l2_tkd_avg  common_wc_nzd  s1_uq_wc_nzd  s2_uq_wc_nzd  \\\n0  False              10.0       0.300000      0.250000      0.687500   \n1  False               7.0       0.142857      0.777778      1.000000   \n2  False               7.5       0.400000      0.571429      0.625000   \n3  False               4.0       0.500000      0.500000      0.500000   \n4  False               4.5       0.222222      0.666667      0.833333   \n\n      bleu1     bleu2          bleu3          bleu4  \n0  0.333333  0.283654   2.290650e-01   1.708192e-01  \n1  0.242612  0.127868  6.475245e-103  4.154123e-155  \n2  0.461538  0.277350  1.279447e-102  7.855727e-155  \n3  0.495359  0.463366   4.237359e-01   3.564026e-01  \n4  0.363636  0.190693  9.991803e-103  6.513869e-155  \n\n[5 rows x 27 columns]",
      "text/html": "<div>\n<style scoped>\n    .dataframe tbody tr th:only-of-type {\n        vertical-align: middle;\n    }\n\n    .dataframe tbody tr th {\n        vertical-align: top;\n    }\n\n    .dataframe thead th {\n        text-align: right;\n    }\n</style>\n<table border=\"1\" class=\"dataframe\">\n  <thead>\n    <tr style=\"text-align: right;\">\n      <th></th>\n      <th>s1</th>\n      <th>s2</th>\n      <th>label</th>\n      <th>len_s1</th>\n      <th>len_s2</th>\n      <th>len_s1s2_avg</th>\n      <th>len_s1_on_s2</th>\n      <th>len_diff</th>\n      <th>edit_dst</th>\n      <th>edit_dst_nzd</th>\n      <th>...</th>\n      <th>s1_ask</th>\n      <th>s2_ask</th>\n      <th>len_l1l2_tkd_avg</th>\n      <th>common_wc_nzd</th>\n      <th>s1_uq_wc_nzd</th>\n      <th>s2_uq_wc_nzd</th>\n      <th>bleu1</th>\n      <th>bleu2</th>\n      <th>bleu3</th>\n      <th>bleu4</th>\n    </tr>\n  </thead>\n  <tbody>\n    <tr>\n      <th>0</th>\n      <td>﻿怎么更改花呗手机号码</td>\n      <td>我的花呗是以前的手机号码，怎么更改成现在的支付宝的号码手机号</td>\n      <td>1</td>\n      <td>11</td>\n      <td>30</td>\n      <td>20.5</td>\n      <td>0.366667</td>\n      <td>-19</td>\n      <td>24</td>\n      <td>0.854167</td>\n      <td>...</td>\n      <td>True</td>\n      <td>False</td>\n      <td>10.0</td>\n      <td>0.300000</td>\n      <td>0.250000</td>\n      <td>0.687500</td>\n      <td>0.333333</td>\n      <td>0.283654</td>\n      <td>2.290650e-01</td>\n      <td>1.708192e-01</td>\n    </tr>\n    <tr>\n      <th>1</th>\n      <td>也开不了花呗，就这样了？完事了</td>\n      <td>真的嘛？就是花呗付款</td>\n      <td>0</td>\n      <td>15</td>\n      <td>10</td>\n      <td>12.5</td>\n      <td>1.500000</td>\n      <td>5</td>\n      <td>14</td>\n      <td>0.892857</td>\n      <td>...</td>\n      <td>False</td>\n      <td>False</td>\n      <td>7.0</td>\n      <td>0.142857</td>\n      <td>0.777778</td>\n      <td>1.000000</td>\n      <td>0.242612</td>\n      <td>0.127868</td>\n      <td>6.475245e-103</td>\n      <td>4.154123e-155</td>\n    </tr>\n    <tr>\n      <th>2</th>\n      <td>花呗冻结以后还能开通吗</td>\n      <td>我的条件可以开通花呗借款吗</td>\n      <td>0</td>\n      <td>11</td>\n      <td>13</td>\n      <td>12.0</td>\n      <td>0.846154</td>\n      <td>-2</td>\n      <td>11</td>\n      <td>1.090909</td>\n      <td>...</td>\n      <td>False</td>\n      <td>False</td>\n      <td>7.5</td>\n      <td>0.400000</td>\n      <td>0.571429</td>\n      <td>0.625000</td>\n      <td>0.461538</td>\n      <td>0.277350</td>\n      <td>1.279447e-102</td>\n      <td>7.855727e-155</td>\n    </tr>\n    <tr>\n      <th>3</th>\n      <td>如何得知关闭借呗</td>\n      <td>想永久关闭借呗</td>\n      <td>0</td>\n      <td>8</td>\n      <td>7</td>\n      <td>7.5</td>\n      <td>1.142857</td>\n      <td>1</td>\n      <td>4</td>\n      <td>1.875000</td>\n      <td>...</td>\n      <td>True</td>\n      <td>False</td>\n      <td>4.0</td>\n      <td>0.500000</td>\n      <td>0.500000</td>\n      <td>0.500000</td>\n      <td>0.495359</td>\n      <td>0.463366</td>\n      <td>4.237359e-01</td>\n      <td>3.564026e-01</td>\n    </tr>\n    <tr>\n      <th>4</th>\n      <td>花呗扫码付钱</td>\n      <td>二维码扫描可以用花呗吗</td>\n      <td>0</td>\n      <td>6</td>\n      <td>11</td>\n      <td>8.5</td>\n      <td>0.545455</td>\n      <td>-5</td>\n      <td>10</td>\n      <td>0.850000</td>\n      <td>...</td>\n      <td>False</td>\n      <td>False</td>\n      <td>4.5</td>\n      <td>0.222222</td>\n      <td>0.666667</td>\n      <td>0.833333</td>\n      <td>0.363636</td>\n      <td>0.190693</td>\n      <td>9.991803e-103</td>\n      <td>6.513869e-155</td>\n    </tr>\n  </tbody>\n</table>\n<p>5 rows × 27 columns</p>\n</div>"
     },
     "execution_count": 1,
     "metadata": {},
     "output_type": "execute_result"
    }
   ],
   "source": [
    "import ast\n",
    "import codecs\n",
    "import pandas as pd\n",
    "import numpy as np\n",
    "\n",
    "df = pd.read_csv('../data/trd_feated.csv',encoding='utf-8-sig')\n",
    "df.head()"
   ]
  },
  {
   "cell_type": "code",
   "execution_count": 2,
   "outputs": [
    {
     "data": {
      "text/plain": "Index(['s1', 's2', 'label', 'len_s1', 'len_s2', 'len_s1s2_avg', 'len_s1_on_s2',\n       'len_diff', 'edit_dst', 'edit_dst_nzd', 'l1_tkd', 'l2_tkd',\n       'len_l1_tkd', 'len_l2_tkd', 'common_wc', 's1_uq_wc', 's2_uq_wc',\n       's1_ask', 's2_ask', 'len_l1l2_tkd_avg', 'common_wc_nzd', 's1_uq_wc_nzd',\n       's2_uq_wc_nzd', 'bleu1', 'bleu2', 'bleu3', 'bleu4'],\n      dtype='object')"
     },
     "execution_count": 2,
     "metadata": {},
     "output_type": "execute_result"
    }
   ],
   "source": [
    "df.columns"
   ],
   "metadata": {
    "collapsed": false,
    "pycharm": {
     "name": "#%%\n"
    }
   }
  },
  {
   "cell_type": "code",
   "execution_count": 3,
   "outputs": [],
   "source": [
    "def load_dense_drop_repeat(path):\n",
    "    vocab_size, size = 0, 0\n",
    "    vocab = dict()\n",
    "    vocab[\"i2w\"], vocab[\"w2i\"] = [], {}\n",
    "    count = 0\n",
    "    with codecs.open(path, \"r\", \"utf-8\") as f:\n",
    "        first_line = True\n",
    "        for line in f:\n",
    "            if first_line:\n",
    "                first_line = False\n",
    "                vocab_size = int(line.strip().split()[0])\n",
    "                size = int(line.rstrip().split()[1])\n",
    "                matrix = np.zeros(shape=(vocab_size, size), dtype=np.float32)\n",
    "                continue\n",
    "            vec = line.strip().split()\n",
    "            if not vocab[\"w2i\"].__contains__(vec[0]):\n",
    "                vocab[\"w2i\"][vec[0]] = count\n",
    "                matrix[count, :] = np.array([float(x) for x in vec[1:]])\n",
    "                count += 1\n",
    "    for w, i in vocab[\"w2i\"].items():\n",
    "        vocab[\"i2w\"].append(w)\n",
    "    return matrix, vocab, size, len(vocab[\"i2w\"])\n",
    "\n",
    "matrix, vocab, size, length = load_dense_drop_repeat('../word2vec/sgns.zhihu.word')"
   ],
   "metadata": {
    "collapsed": false,
    "pycharm": {
     "name": "#%%\n"
    }
   }
  },
  {
   "cell_type": "code",
   "execution_count": 4,
   "outputs": [
    {
     "data": {
      "text/plain": "(259922, 300)"
     },
     "execution_count": 4,
     "metadata": {},
     "output_type": "execute_result"
    }
   ],
   "source": [
    "matrix.shape # OHE->EMD"
   ],
   "metadata": {
    "collapsed": false,
    "pycharm": {
     "name": "#%%\n"
    }
   }
  },
  {
   "cell_type": "code",
   "execution_count": 5,
   "outputs": [
    {
     "data": {
      "text/plain": "259836"
     },
     "execution_count": 5,
     "metadata": {},
     "output_type": "execute_result"
    }
   ],
   "source": [
    "len(vocab['i2w'])  # list: [word1, word2 ...]"
   ],
   "metadata": {
    "collapsed": false,
    "pycharm": {
     "name": "#%%\n"
    }
   }
  },
  {
   "cell_type": "code",
   "execution_count": 6,
   "outputs": [
    {
     "data": {
      "text/plain": "259836"
     },
     "execution_count": 6,
     "metadata": {},
     "output_type": "execute_result"
    }
   ],
   "source": [
    "len(vocab['w2i'])  # dict: {word: index}"
   ],
   "metadata": {
    "collapsed": false,
    "pycharm": {
     "name": "#%%\n"
    }
   }
  },
  {
   "cell_type": "code",
   "execution_count": 7,
   "outputs": [
    {
     "data": {
      "text/plain": "259836"
     },
     "execution_count": 7,
     "metadata": {},
     "output_type": "execute_result"
    }
   ],
   "source": [
    "length"
   ],
   "metadata": {
    "collapsed": false,
    "pycharm": {
     "name": "#%%\n"
    }
   }
  },
  {
   "cell_type": "code",
   "execution_count": 8,
   "outputs": [],
   "source": [
    "def get_token_list_idx(row):\n",
    "\n",
    "    l1_idx, l2_idx = [], []\n",
    "    l1_no_oov, l2_no_oov = [], []\n",
    "    l1_emd, l2_emd = [], []\n",
    "\n",
    "    l1_tkd = ast.literal_eval(row['l1_tkd'])\n",
    "    l2_tkd = ast.literal_eval(row['l2_tkd'])\n",
    "\n",
    "    for word in l1_tkd:\n",
    "        if word in vocab['w2i'].keys():\n",
    "            l1_idx.append(vocab['w2i'][word])\n",
    "            l1_no_oov.append(word)\n",
    "            l1_emd.append(matrix[vocab['w2i'][word]])\n",
    "\n",
    "    for word in l2_tkd:\n",
    "        if word in vocab['w2i'].keys():\n",
    "            l2_idx.append(vocab['w2i'][word])\n",
    "            l2_no_oov.append(word)\n",
    "            l2_emd.append(matrix[vocab['w2i'][word]])\n",
    "\n",
    "    return l1_no_oov, l2_no_oov, l1_idx, l2_idx,  l1_emd, l2_emd\n",
    "\n",
    "df[['l1_no_oov', 'l2_no_oov', 'l1_idx', 'l2_idx', 'l1_emd', 'l2_emd']]=df.apply(get_token_list_idx, axis=1,result_type='expand')"
   ],
   "metadata": {
    "collapsed": false,
    "pycharm": {
     "name": "#%%\n"
    }
   }
  },
  {
   "cell_type": "code",
   "execution_count": 9,
   "outputs": [],
   "source": [
    "def join(x):\n",
    "    return ' '.join(x)\n",
    "\n",
    "df['l1_no_oov_str']=df['l1_no_oov'].apply(lambda x:join(x))\n",
    "df['l2_no_oov_str']=df['l2_no_oov'].apply(lambda x:join(x))"
   ],
   "metadata": {
    "collapsed": false,
    "pycharm": {
     "name": "#%%\n"
    }
   }
  },
  {
   "cell_type": "code",
   "execution_count": 10,
   "outputs": [
    {
     "data": {
      "text/plain": "                s1                              s2  label  len_s1  len_s2  \\\n0      ﻿怎么更改花呗手机号码  我的花呗是以前的手机号码，怎么更改成现在的支付宝的号码手机号      1      11      30   \n1  也开不了花呗，就这样了？完事了                      真的嘛？就是花呗付款      0      15      10   \n2      花呗冻结以后还能开通吗                   我的条件可以开通花呗借款吗      0      11      13   \n3         如何得知关闭借呗                         想永久关闭借呗      0       8       7   \n4           花呗扫码付钱                     二维码扫描可以用花呗吗      0       6      11   \n\n   len_s1s2_avg  len_s1_on_s2  len_diff  edit_dst  edit_dst_nzd  ...  \\\n0          20.5      0.366667       -19        24      0.854167  ...   \n1          12.5      1.500000         5        14      0.892857  ...   \n2          12.0      0.846154        -2        11      1.090909  ...   \n3           7.5      1.142857         1         4      1.875000  ...   \n4           8.5      0.545455        -5        10      0.850000  ...   \n\n           bleu3          bleu4                    l1_no_oov  \\\n0   2.290650e-01   1.708192e-01               [怎么, 更改, 手机号码]   \n1  6.475245e-103  4.154123e-155  [也, 开, 不了, 就, 这样, 了, 完事, 了]   \n2  1.279447e-102  7.855727e-155        [冻结, 以后, 还, 能, 开通, 吗]   \n3   4.237359e-01   3.564026e-01                 [如何, 得知, 关闭]   \n4  9.991803e-103  6.513869e-155                         [付钱]   \n\n                                           l2_no_oov  \\\n0  [我, 的, 是, 以前, 的, 手机号码, 怎么, 更, 改成, 现在, 的, 支付宝, ...   \n1                                    [真的, 嘛, 就是, 付款]   \n2                          [我, 的, 条件, 可以, 开通, 借款, 吗]   \n3                                        [想, 永久, 关闭]   \n4                                [二维码, 扫描, 可以, 用, 吗]   \n\n                                 l1_idx  \\\n0                   [176, 11047, 28645]   \n1  [27, 242, 666, 42, 131, 3, 14073, 3]   \n2       [20083, 311, 36, 48, 9777, 148]   \n3                     [267, 2818, 4529]   \n4                               [14255]   \n\n                                              l2_idx  \\\n0  [8, 1, 5, 445, 1, 28645, 176, 123, 3981, 111, ...   \n1                              [143, 688, 23, 12050]   \n2                  [8, 1, 891, 28, 9777, 15366, 148]   \n3                                   [87, 8120, 4529]   \n4                          [3019, 8676, 28, 63, 148]   \n\n                                              l1_emd  \\\n0  [[-0.100047, 0.514658, -0.443213, 0.046349, -0...   \n1  [[-0.075654, 0.515432, 0.187096, -0.124749, -0...   \n2  [[-0.000582, 0.319691, -0.037281, -0.070775, 0...   \n3  [[0.045856, 0.289823, -0.431393, -0.103468, -0...   \n4  [[0.078619, 0.378632, -0.392645, 0.104507, 0.2...   \n\n                                              l2_emd       l1_no_oov_str  \\\n0  [[0.005664, 0.407404, -0.153532, 0.161316, 0.1...          怎么 更改 手机号码   \n1  [[-0.173466, 0.344304, -0.239642, -0.079505, -...  也 开 不了 就 这样 了 完事 了   \n2  [[0.005664, 0.407404, -0.153532, 0.161316, 0.1...      冻结 以后 还 能 开通 吗   \n3  [[0.187698, 0.021538, -0.287818, 0.01359, -0.0...            如何 得知 关闭   \n4  [[-0.352213, 0.434613, -0.796925, -0.061786, 0...                  付钱   \n\n                               l2_no_oov_str  \n0  我 的 是 以前 的 手机号码 怎么 更 改成 现在 的 支付宝 的 号码 手机号  \n1                                 真的 嘛 就是 付款  \n2                          我 的 条件 可以 开通 借款 吗  \n3                                    想 永久 关闭  \n4                              二维码 扫描 可以 用 吗  \n\n[5 rows x 35 columns]",
      "text/html": "<div>\n<style scoped>\n    .dataframe tbody tr th:only-of-type {\n        vertical-align: middle;\n    }\n\n    .dataframe tbody tr th {\n        vertical-align: top;\n    }\n\n    .dataframe thead th {\n        text-align: right;\n    }\n</style>\n<table border=\"1\" class=\"dataframe\">\n  <thead>\n    <tr style=\"text-align: right;\">\n      <th></th>\n      <th>s1</th>\n      <th>s2</th>\n      <th>label</th>\n      <th>len_s1</th>\n      <th>len_s2</th>\n      <th>len_s1s2_avg</th>\n      <th>len_s1_on_s2</th>\n      <th>len_diff</th>\n      <th>edit_dst</th>\n      <th>edit_dst_nzd</th>\n      <th>...</th>\n      <th>bleu3</th>\n      <th>bleu4</th>\n      <th>l1_no_oov</th>\n      <th>l2_no_oov</th>\n      <th>l1_idx</th>\n      <th>l2_idx</th>\n      <th>l1_emd</th>\n      <th>l2_emd</th>\n      <th>l1_no_oov_str</th>\n      <th>l2_no_oov_str</th>\n    </tr>\n  </thead>\n  <tbody>\n    <tr>\n      <th>0</th>\n      <td>﻿怎么更改花呗手机号码</td>\n      <td>我的花呗是以前的手机号码，怎么更改成现在的支付宝的号码手机号</td>\n      <td>1</td>\n      <td>11</td>\n      <td>30</td>\n      <td>20.5</td>\n      <td>0.366667</td>\n      <td>-19</td>\n      <td>24</td>\n      <td>0.854167</td>\n      <td>...</td>\n      <td>2.290650e-01</td>\n      <td>1.708192e-01</td>\n      <td>[怎么, 更改, 手机号码]</td>\n      <td>[我, 的, 是, 以前, 的, 手机号码, 怎么, 更, 改成, 现在, 的, 支付宝, ...</td>\n      <td>[176, 11047, 28645]</td>\n      <td>[8, 1, 5, 445, 1, 28645, 176, 123, 3981, 111, ...</td>\n      <td>[[-0.100047, 0.514658, -0.443213, 0.046349, -0...</td>\n      <td>[[0.005664, 0.407404, -0.153532, 0.161316, 0.1...</td>\n      <td>怎么 更改 手机号码</td>\n      <td>我 的 是 以前 的 手机号码 怎么 更 改成 现在 的 支付宝 的 号码 手机号</td>\n    </tr>\n    <tr>\n      <th>1</th>\n      <td>也开不了花呗，就这样了？完事了</td>\n      <td>真的嘛？就是花呗付款</td>\n      <td>0</td>\n      <td>15</td>\n      <td>10</td>\n      <td>12.5</td>\n      <td>1.500000</td>\n      <td>5</td>\n      <td>14</td>\n      <td>0.892857</td>\n      <td>...</td>\n      <td>6.475245e-103</td>\n      <td>4.154123e-155</td>\n      <td>[也, 开, 不了, 就, 这样, 了, 完事, 了]</td>\n      <td>[真的, 嘛, 就是, 付款]</td>\n      <td>[27, 242, 666, 42, 131, 3, 14073, 3]</td>\n      <td>[143, 688, 23, 12050]</td>\n      <td>[[-0.075654, 0.515432, 0.187096, -0.124749, -0...</td>\n      <td>[[-0.173466, 0.344304, -0.239642, -0.079505, -...</td>\n      <td>也 开 不了 就 这样 了 完事 了</td>\n      <td>真的 嘛 就是 付款</td>\n    </tr>\n    <tr>\n      <th>2</th>\n      <td>花呗冻结以后还能开通吗</td>\n      <td>我的条件可以开通花呗借款吗</td>\n      <td>0</td>\n      <td>11</td>\n      <td>13</td>\n      <td>12.0</td>\n      <td>0.846154</td>\n      <td>-2</td>\n      <td>11</td>\n      <td>1.090909</td>\n      <td>...</td>\n      <td>1.279447e-102</td>\n      <td>7.855727e-155</td>\n      <td>[冻结, 以后, 还, 能, 开通, 吗]</td>\n      <td>[我, 的, 条件, 可以, 开通, 借款, 吗]</td>\n      <td>[20083, 311, 36, 48, 9777, 148]</td>\n      <td>[8, 1, 891, 28, 9777, 15366, 148]</td>\n      <td>[[-0.000582, 0.319691, -0.037281, -0.070775, 0...</td>\n      <td>[[0.005664, 0.407404, -0.153532, 0.161316, 0.1...</td>\n      <td>冻结 以后 还 能 开通 吗</td>\n      <td>我 的 条件 可以 开通 借款 吗</td>\n    </tr>\n    <tr>\n      <th>3</th>\n      <td>如何得知关闭借呗</td>\n      <td>想永久关闭借呗</td>\n      <td>0</td>\n      <td>8</td>\n      <td>7</td>\n      <td>7.5</td>\n      <td>1.142857</td>\n      <td>1</td>\n      <td>4</td>\n      <td>1.875000</td>\n      <td>...</td>\n      <td>4.237359e-01</td>\n      <td>3.564026e-01</td>\n      <td>[如何, 得知, 关闭]</td>\n      <td>[想, 永久, 关闭]</td>\n      <td>[267, 2818, 4529]</td>\n      <td>[87, 8120, 4529]</td>\n      <td>[[0.045856, 0.289823, -0.431393, -0.103468, -0...</td>\n      <td>[[0.187698, 0.021538, -0.287818, 0.01359, -0.0...</td>\n      <td>如何 得知 关闭</td>\n      <td>想 永久 关闭</td>\n    </tr>\n    <tr>\n      <th>4</th>\n      <td>花呗扫码付钱</td>\n      <td>二维码扫描可以用花呗吗</td>\n      <td>0</td>\n      <td>6</td>\n      <td>11</td>\n      <td>8.5</td>\n      <td>0.545455</td>\n      <td>-5</td>\n      <td>10</td>\n      <td>0.850000</td>\n      <td>...</td>\n      <td>9.991803e-103</td>\n      <td>6.513869e-155</td>\n      <td>[付钱]</td>\n      <td>[二维码, 扫描, 可以, 用, 吗]</td>\n      <td>[14255]</td>\n      <td>[3019, 8676, 28, 63, 148]</td>\n      <td>[[0.078619, 0.378632, -0.392645, 0.104507, 0.2...</td>\n      <td>[[-0.352213, 0.434613, -0.796925, -0.061786, 0...</td>\n      <td>付钱</td>\n      <td>二维码 扫描 可以 用 吗</td>\n    </tr>\n  </tbody>\n</table>\n<p>5 rows × 35 columns</p>\n</div>"
     },
     "execution_count": 10,
     "metadata": {},
     "output_type": "execute_result"
    }
   ],
   "source": [
    "df.head()"
   ],
   "metadata": {
    "collapsed": false,
    "pycharm": {
     "name": "#%%\n"
    }
   }
  },
  {
   "cell_type": "code",
   "execution_count": 11,
   "outputs": [],
   "source": [
    "from sklearn.feature_extraction.text import TfidfVectorizer\n",
    "tf1 = TfidfVectorizer(lowercase=False,vocabulary=vocab['w2i'])\n",
    "dmt_l1_no_oov = tf1.fit_transform(df['l1_no_oov_str'])"
   ],
   "metadata": {
    "collapsed": false,
    "pycharm": {
     "name": "#%%\n"
    }
   }
  },
  {
   "cell_type": "code",
   "execution_count": 12,
   "outputs": [
    {
     "data": {
      "text/plain": "[[0.2911125346008847, 0.6813844622784201, 0.6715420364830462],\n [0.0,\n  0.0,\n  0.3050283321451065,\n  0.0,\n  0.5673142076102956,\n  0.0,\n  0.7649263405271629,\n  0.0],\n [0.618902920804913, 0.6824507805103563, 0.0, 0.0, 0.38887029559989894, 0.0],\n [0.3543126968453009, 0.8674971456062696, 0.3491578657558564],\n [1.0]]"
     },
     "execution_count": 12,
     "metadata": {},
     "output_type": "execute_result"
    }
   ],
   "source": [
    "idx_matrix_l1 = df['l1_idx'].values\n",
    "tfidf_matrix_l1 = []\n",
    "for i,i_list in enumerate(idx_matrix_l1):\n",
    "    temp = []\n",
    "    for j in i_list:\n",
    "        temp.append(dmt_l1_no_oov[i,j])\n",
    "    tfidf_matrix_l1.append(temp)\n",
    "\n",
    "tfidf_matrix_l1[:5]"
   ],
   "metadata": {
    "collapsed": false,
    "pycharm": {
     "name": "#%%\n"
    }
   }
  },
  {
   "cell_type": "code",
   "execution_count": 13,
   "outputs": [
    {
     "data": {
      "text/plain": "[[0.0,\n  0.0,\n  0.0,\n  0.3720269035410146,\n  0.0,\n  0.40295686488792987,\n  0.17677958180509531,\n  0.0,\n  0.4911574419957298,\n  0.28322364678747375,\n  0.0,\n  0.2615859438026379,\n  0.0,\n  0.390868923104766,\n  0.3539968072830744],\n [0.7366695145856915, 0.0, 0.5597105462850577, 0.37952882717570235],\n [0.0,\n  0.0,\n  0.6532393435180363,\n  0.30830554760116524,\n  0.36506168060505184,\n  0.5873295657059039,\n  0.0],\n [0.0, 0.8543087394543378, 0.5197658873877163],\n [0.559491271304203, 0.7860995812236942, 0.26271080246982514, 0.0, 0.0]]"
     },
     "execution_count": 13,
     "metadata": {},
     "output_type": "execute_result"
    }
   ],
   "source": [
    "tf2 = TfidfVectorizer(lowercase=False,vocabulary=vocab['w2i'])\n",
    "dmt_l2_no_oov = tf2.fit_transform(df['l2_no_oov_str'])\n",
    "idx_matrix_l2 = df['l2_idx'].values\n",
    "tfidf_matrix_l2 = []\n",
    "\n",
    "for i,i_list in enumerate(idx_matrix_l2):\n",
    "    temp = []\n",
    "    for j in i_list:\n",
    "        temp.append(dmt_l2_no_oov[i,j])\n",
    "    tfidf_matrix_l2.append(temp)\n",
    "\n",
    "tfidf_matrix_l2[:5]  # why has 0?"
   ],
   "metadata": {
    "collapsed": false,
    "pycharm": {
     "name": "#%%\n"
    }
   }
  },
  {
   "cell_type": "code",
   "execution_count": 14,
   "outputs": [],
   "source": [
    "df['tfidf_l1'] = tfidf_matrix_l1\n",
    "df['tfidf_l2'] = tfidf_matrix_l2"
   ],
   "metadata": {
    "collapsed": false,
    "pycharm": {
     "name": "#%%\n"
    }
   }
  },
  {
   "cell_type": "code",
   "execution_count": 15,
   "outputs": [
    {
     "data": {
      "text/plain": "            s1                              s2  label  len_s1  len_s2  \\\n0  ﻿怎么更改花呗手机号码  我的花呗是以前的手机号码，怎么更改成现在的支付宝的号码手机号      1      11      30   \n\n   len_s1s2_avg  len_s1_on_s2  len_diff  edit_dst  edit_dst_nzd  ...  \\\n0          20.5      0.366667       -19        24      0.854167  ...   \n\n        l1_no_oov                                          l2_no_oov  \\\n0  [怎么, 更改, 手机号码]  [我, 的, 是, 以前, 的, 手机号码, 怎么, 更, 改成, 现在, 的, 支付宝, ...   \n\n                l1_idx                                             l2_idx  \\\n0  [176, 11047, 28645]  [8, 1, 5, 445, 1, 28645, 176, 123, 3981, 111, ...   \n\n                                              l1_emd  \\\n0  [[-0.100047, 0.514658, -0.443213, 0.046349, -0...   \n\n                                              l2_emd  l1_no_oov_str  \\\n0  [[0.005664, 0.407404, -0.153532, 0.161316, 0.1...     怎么 更改 手机号码   \n\n                               l2_no_oov_str  \\\n0  我 的 是 以前 的 手机号码 怎么 更 改成 现在 的 支付宝 的 号码 手机号   \n\n                                            tfidf_l1  \\\n0  [0.2911125346008847, 0.6813844622784201, 0.671...   \n\n                                            tfidf_l2  \n0  [0.0, 0.0, 0.0, 0.3720269035410146, 0.0, 0.402...  \n\n[1 rows x 37 columns]",
      "text/html": "<div>\n<style scoped>\n    .dataframe tbody tr th:only-of-type {\n        vertical-align: middle;\n    }\n\n    .dataframe tbody tr th {\n        vertical-align: top;\n    }\n\n    .dataframe thead th {\n        text-align: right;\n    }\n</style>\n<table border=\"1\" class=\"dataframe\">\n  <thead>\n    <tr style=\"text-align: right;\">\n      <th></th>\n      <th>s1</th>\n      <th>s2</th>\n      <th>label</th>\n      <th>len_s1</th>\n      <th>len_s2</th>\n      <th>len_s1s2_avg</th>\n      <th>len_s1_on_s2</th>\n      <th>len_diff</th>\n      <th>edit_dst</th>\n      <th>edit_dst_nzd</th>\n      <th>...</th>\n      <th>l1_no_oov</th>\n      <th>l2_no_oov</th>\n      <th>l1_idx</th>\n      <th>l2_idx</th>\n      <th>l1_emd</th>\n      <th>l2_emd</th>\n      <th>l1_no_oov_str</th>\n      <th>l2_no_oov_str</th>\n      <th>tfidf_l1</th>\n      <th>tfidf_l2</th>\n    </tr>\n  </thead>\n  <tbody>\n    <tr>\n      <th>0</th>\n      <td>﻿怎么更改花呗手机号码</td>\n      <td>我的花呗是以前的手机号码，怎么更改成现在的支付宝的号码手机号</td>\n      <td>1</td>\n      <td>11</td>\n      <td>30</td>\n      <td>20.5</td>\n      <td>0.366667</td>\n      <td>-19</td>\n      <td>24</td>\n      <td>0.854167</td>\n      <td>...</td>\n      <td>[怎么, 更改, 手机号码]</td>\n      <td>[我, 的, 是, 以前, 的, 手机号码, 怎么, 更, 改成, 现在, 的, 支付宝, ...</td>\n      <td>[176, 11047, 28645]</td>\n      <td>[8, 1, 5, 445, 1, 28645, 176, 123, 3981, 111, ...</td>\n      <td>[[-0.100047, 0.514658, -0.443213, 0.046349, -0...</td>\n      <td>[[0.005664, 0.407404, -0.153532, 0.161316, 0.1...</td>\n      <td>怎么 更改 手机号码</td>\n      <td>我 的 是 以前 的 手机号码 怎么 更 改成 现在 的 支付宝 的 号码 手机号</td>\n      <td>[0.2911125346008847, 0.6813844622784201, 0.671...</td>\n      <td>[0.0, 0.0, 0.0, 0.3720269035410146, 0.0, 0.402...</td>\n    </tr>\n  </tbody>\n</table>\n<p>1 rows × 37 columns</p>\n</div>"
     },
     "execution_count": 15,
     "metadata": {},
     "output_type": "execute_result"
    }
   ],
   "source": [
    "df.head(1)"
   ],
   "metadata": {
    "collapsed": false,
    "pycharm": {
     "name": "#%%\n"
    }
   }
  },
  {
   "cell_type": "code",
   "execution_count": 16,
   "outputs": [],
   "source": [
    "def get_sent_emd(row):\n",
    "\n",
    "    tfidf_l1 = row['tfidf_l1']\n",
    "    tfidf_l2 = row['tfidf_l2']\n",
    "\n",
    "    l1_emd = row['l1_emd']\n",
    "    l2_emd = row['l2_emd']\n",
    "\n",
    "    sent_emd_l1 = np.zeros(300)\n",
    "    sent_emd_l2 = np.zeros(300)\n",
    "\n",
    "    for a,b in zip(l1_emd,tfidf_l1):\n",
    "        sent_emd_l1 += np.array(a)*b\n",
    "\n",
    "    for a,b in zip(l2_emd,tfidf_l2):\n",
    "        sent_emd_l2 += np.array(a)*b\n",
    "\n",
    "    return sent_emd_l1, sent_emd_l2\n",
    "\n",
    "df[['sent_emd_l1', 'sent_emd_l2']] = df.apply(get_sent_emd, axis=1,result_type='expand')"
   ],
   "metadata": {
    "collapsed": false,
    "pycharm": {
     "name": "#%%\n"
    }
   }
  },
  {
   "cell_type": "code",
   "execution_count": 17,
   "outputs": [
    {
     "data": {
      "text/plain": "            s1                              s2  label  len_s1  len_s2  \\\n0  ﻿怎么更改花呗手机号码  我的花呗是以前的手机号码，怎么更改成现在的支付宝的号码手机号      1      11      30   \n\n   len_s1s2_avg  len_s1_on_s2  len_diff  edit_dst  edit_dst_nzd  ...  \\\n0          20.5      0.366667       -19        24      0.854167  ...   \n\n                l1_idx                                             l2_idx  \\\n0  [176, 11047, 28645]  [8, 1, 5, 445, 1, 28645, 176, 123, 3981, 111, ...   \n\n                                              l1_emd  \\\n0  [[-0.100047, 0.514658, -0.443213, 0.046349, -0...   \n\n                                              l2_emd  l1_no_oov_str  \\\n0  [[0.005664, 0.407404, -0.153532, 0.161316, 0.1...     怎么 更改 手机号码   \n\n                               l2_no_oov_str  \\\n0  我 的 是 以前 的 手机号码 怎么 更 改成 现在 的 支付宝 的 号码 手机号   \n\n                                            tfidf_l1  \\\n0  [0.2911125346008847, 0.6813844622784201, 0.671...   \n\n                                            tfidf_l2  \\\n0  [0.0, 0.0, 0.0, 0.3720269035410146, 0.0, 0.402...   \n\n                                         sent_emd_l1  \\\n0  [-0.4842908885329962, 0.6463035643100739, -0.4...   \n\n                                         sent_emd_l2  \n0  [-0.5333490184275433, 1.1786049455404282, -0.6...  \n\n[1 rows x 39 columns]",
      "text/html": "<div>\n<style scoped>\n    .dataframe tbody tr th:only-of-type {\n        vertical-align: middle;\n    }\n\n    .dataframe tbody tr th {\n        vertical-align: top;\n    }\n\n    .dataframe thead th {\n        text-align: right;\n    }\n</style>\n<table border=\"1\" class=\"dataframe\">\n  <thead>\n    <tr style=\"text-align: right;\">\n      <th></th>\n      <th>s1</th>\n      <th>s2</th>\n      <th>label</th>\n      <th>len_s1</th>\n      <th>len_s2</th>\n      <th>len_s1s2_avg</th>\n      <th>len_s1_on_s2</th>\n      <th>len_diff</th>\n      <th>edit_dst</th>\n      <th>edit_dst_nzd</th>\n      <th>...</th>\n      <th>l1_idx</th>\n      <th>l2_idx</th>\n      <th>l1_emd</th>\n      <th>l2_emd</th>\n      <th>l1_no_oov_str</th>\n      <th>l2_no_oov_str</th>\n      <th>tfidf_l1</th>\n      <th>tfidf_l2</th>\n      <th>sent_emd_l1</th>\n      <th>sent_emd_l2</th>\n    </tr>\n  </thead>\n  <tbody>\n    <tr>\n      <th>0</th>\n      <td>﻿怎么更改花呗手机号码</td>\n      <td>我的花呗是以前的手机号码，怎么更改成现在的支付宝的号码手机号</td>\n      <td>1</td>\n      <td>11</td>\n      <td>30</td>\n      <td>20.5</td>\n      <td>0.366667</td>\n      <td>-19</td>\n      <td>24</td>\n      <td>0.854167</td>\n      <td>...</td>\n      <td>[176, 11047, 28645]</td>\n      <td>[8, 1, 5, 445, 1, 28645, 176, 123, 3981, 111, ...</td>\n      <td>[[-0.100047, 0.514658, -0.443213, 0.046349, -0...</td>\n      <td>[[0.005664, 0.407404, -0.153532, 0.161316, 0.1...</td>\n      <td>怎么 更改 手机号码</td>\n      <td>我 的 是 以前 的 手机号码 怎么 更 改成 现在 的 支付宝 的 号码 手机号</td>\n      <td>[0.2911125346008847, 0.6813844622784201, 0.671...</td>\n      <td>[0.0, 0.0, 0.0, 0.3720269035410146, 0.0, 0.402...</td>\n      <td>[-0.4842908885329962, 0.6463035643100739, -0.4...</td>\n      <td>[-0.5333490184275433, 1.1786049455404282, -0.6...</td>\n    </tr>\n  </tbody>\n</table>\n<p>1 rows × 39 columns</p>\n</div>"
     },
     "execution_count": 17,
     "metadata": {},
     "output_type": "execute_result"
    }
   ],
   "source": [
    "\n",
    "df.head(1)"
   ],
   "metadata": {
    "collapsed": false,
    "pycharm": {
     "name": "#%%\n"
    }
   }
  },
  {
   "cell_type": "code",
   "execution_count": 17,
   "outputs": [],
   "source": [],
   "metadata": {
    "collapsed": false,
    "pycharm": {
     "name": "#%%\n"
    }
   }
  },
  {
   "cell_type": "code",
   "execution_count": 18,
   "outputs": [],
   "source": [
    "from sklearn.metrics import pairwise_distances\n",
    "from scipy.spatial import distance\n",
    "\n",
    "def get_distances(row):\n",
    "    sent_emd_l1 =row['sent_emd_l1']\n",
    "    sent_emd_l2 =row['sent_emd_l2']\n",
    "    return pairwise_distances([sent_emd_l1],[sent_emd_l2],metric='euclidean')[0][0],\\\n",
    "           pairwise_distances([sent_emd_l1],[sent_emd_l2],metric='manhattan')[0][0],\\\n",
    "           pairwise_distances([sent_emd_l1],[sent_emd_l2],metric='cosine')[0][0],\\\n",
    "           distance.canberra(sent_emd_l1,sent_emd_l2)\n",
    "\n",
    "df[['l2_dist','l1_dist','cos_dist','cbr_dist']] = df.apply(get_distances, axis=1,result_type='expand')"
   ],
   "metadata": {
    "collapsed": false,
    "pycharm": {
     "name": "#%%\n"
    }
   }
  },
  {
   "cell_type": "code",
   "execution_count": 19,
   "outputs": [
    {
     "data": {
      "text/plain": "            s1                              s2  label  len_s1  len_s2  \\\n0  ﻿怎么更改花呗手机号码  我的花呗是以前的手机号码，怎么更改成现在的支付宝的号码手机号      1      11      30   \n\n   len_s1s2_avg  len_s1_on_s2  len_diff  edit_dst  edit_dst_nzd  ...  \\\n0          20.5      0.366667       -19        24      0.854167  ...   \n\n  l1_no_oov_str                              l2_no_oov_str  \\\n0    怎么 更改 手机号码  我 的 是 以前 的 手机号码 怎么 更 改成 现在 的 支付宝 的 号码 手机号   \n\n                                            tfidf_l1  \\\n0  [0.2911125346008847, 0.6813844622784201, 0.671...   \n\n                                            tfidf_l2  \\\n0  [0.0, 0.0, 0.0, 0.3720269035410146, 0.0, 0.402...   \n\n                                         sent_emd_l1  \\\n0  [-0.4842908885329962, 0.6463035643100739, -0.4...   \n\n                                         sent_emd_l2  l2_dist    l1_dist  \\\n0  [-0.5333490184275433, 1.1786049455404282, -0.6...  5.10739  69.538723   \n\n   cos_dist    cbr_dist  \n0  0.229634  152.813882  \n\n[1 rows x 43 columns]",
      "text/html": "<div>\n<style scoped>\n    .dataframe tbody tr th:only-of-type {\n        vertical-align: middle;\n    }\n\n    .dataframe tbody tr th {\n        vertical-align: top;\n    }\n\n    .dataframe thead th {\n        text-align: right;\n    }\n</style>\n<table border=\"1\" class=\"dataframe\">\n  <thead>\n    <tr style=\"text-align: right;\">\n      <th></th>\n      <th>s1</th>\n      <th>s2</th>\n      <th>label</th>\n      <th>len_s1</th>\n      <th>len_s2</th>\n      <th>len_s1s2_avg</th>\n      <th>len_s1_on_s2</th>\n      <th>len_diff</th>\n      <th>edit_dst</th>\n      <th>edit_dst_nzd</th>\n      <th>...</th>\n      <th>l1_no_oov_str</th>\n      <th>l2_no_oov_str</th>\n      <th>tfidf_l1</th>\n      <th>tfidf_l2</th>\n      <th>sent_emd_l1</th>\n      <th>sent_emd_l2</th>\n      <th>l2_dist</th>\n      <th>l1_dist</th>\n      <th>cos_dist</th>\n      <th>cbr_dist</th>\n    </tr>\n  </thead>\n  <tbody>\n    <tr>\n      <th>0</th>\n      <td>﻿怎么更改花呗手机号码</td>\n      <td>我的花呗是以前的手机号码，怎么更改成现在的支付宝的号码手机号</td>\n      <td>1</td>\n      <td>11</td>\n      <td>30</td>\n      <td>20.5</td>\n      <td>0.366667</td>\n      <td>-19</td>\n      <td>24</td>\n      <td>0.854167</td>\n      <td>...</td>\n      <td>怎么 更改 手机号码</td>\n      <td>我 的 是 以前 的 手机号码 怎么 更 改成 现在 的 支付宝 的 号码 手机号</td>\n      <td>[0.2911125346008847, 0.6813844622784201, 0.671...</td>\n      <td>[0.0, 0.0, 0.0, 0.3720269035410146, 0.0, 0.402...</td>\n      <td>[-0.4842908885329962, 0.6463035643100739, -0.4...</td>\n      <td>[-0.5333490184275433, 1.1786049455404282, -0.6...</td>\n      <td>5.10739</td>\n      <td>69.538723</td>\n      <td>0.229634</td>\n      <td>152.813882</td>\n    </tr>\n  </tbody>\n</table>\n<p>1 rows × 43 columns</p>\n</div>"
     },
     "execution_count": 19,
     "metadata": {},
     "output_type": "execute_result"
    }
   ],
   "source": [
    "df.head(1)"
   ],
   "metadata": {
    "collapsed": false,
    "pycharm": {
     "name": "#%%\n"
    }
   }
  },
  {
   "cell_type": "code",
   "execution_count": 20,
   "outputs": [
    {
     "data": {
      "text/plain": "(102477, 43)"
     },
     "execution_count": 20,
     "metadata": {},
     "output_type": "execute_result"
    }
   ],
   "source": [
    "df.shape"
   ],
   "metadata": {
    "collapsed": false,
    "pycharm": {
     "name": "#%%\n"
    }
   }
  },
  {
   "cell_type": "code",
   "execution_count": 21,
   "outputs": [],
   "source": [
    "\n",
    "df[['s1', 's2', 'label', 'len_s1', 'len_s2', 'len_s1s2_avg', 'len_s1_on_s2',\n",
    "       'len_diff', 'edit_dst', 'edit_dst_nzd',\n",
    "       'len_l1_tkd', 'len_l2_tkd', 'common_wc', 's1_uq_wc', 's2_uq_wc',\n",
    "       's1_ask', 's2_ask', 'len_l1l2_tkd_avg', 'common_wc_nzd', 's1_uq_wc_nzd',\n",
    "       's2_uq_wc_nzd', 'bleu1', 'bleu2', 'bleu3', 'bleu4',\n",
    "       'l2_dist', 'l1_dist', 'cos_dist','cbr_dist']].to_csv('../data/embedded.csv', index=False)\n"
   ],
   "metadata": {
    "collapsed": false,
    "pycharm": {
     "name": "#%%\n"
    }
   }
  },
  {
   "cell_type": "code",
   "execution_count": 22,
   "outputs": [],
   "source": [
    "df[['s1', 's2', 'label','l1_no_oov', 'l2_no_oov', 'l1_idx', 'l2_idx']].to_csv('../data/for_nn.csv', index=False)"
   ],
   "metadata": {
    "collapsed": false,
    "pycharm": {
     "name": "#%%\n"
    }
   }
  }
 ],
 "metadata": {
  "kernelspec": {
   "name": "atec",
   "language": "python",
   "display_name": "atec"
  },
  "language_info": {
   "codemirror_mode": {
    "name": "ipython",
    "version": 2
   },
   "file_extension": ".py",
   "mimetype": "text/x-python",
   "name": "python",
   "nbconvert_exporter": "python",
   "pygments_lexer": "ipython2",
   "version": "2.7.6"
  }
 },
 "nbformat": 4,
 "nbformat_minor": 0
}