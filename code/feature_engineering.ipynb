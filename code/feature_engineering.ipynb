{
 "cells": [
  {
   "cell_type": "code",
   "execution_count": 71,
   "metadata": {
    "collapsed": true
   },
   "outputs": [],
   "source": [
    "import pandas as pd\n",
    "from Levenshtein import distance\n",
    "import jieba"
   ]
  },
  {
   "cell_type": "code",
   "execution_count": 72,
   "outputs": [
    {
     "data": {
      "text/plain": "                s1                              s2  label\n0      ﻿怎么更改花呗手机号码  我的花呗是以前的手机号码，怎么更改成现在的支付宝的号码手机号      1\n1  也开不了花呗，就这样了？完事了                      真的嘛？就是花呗付款      0\n2      花呗冻结以后还能开通吗                   我的条件可以开通花呗借款吗      0\n3         如何得知关闭借呗                         想永久关闭借呗      0\n4           花呗扫码付钱                     二维码扫描可以用花呗吗      0",
      "text/html": "<div>\n<style scoped>\n    .dataframe tbody tr th:only-of-type {\n        vertical-align: middle;\n    }\n\n    .dataframe tbody tr th {\n        vertical-align: top;\n    }\n\n    .dataframe thead th {\n        text-align: right;\n    }\n</style>\n<table border=\"1\" class=\"dataframe\">\n  <thead>\n    <tr style=\"text-align: right;\">\n      <th></th>\n      <th>s1</th>\n      <th>s2</th>\n      <th>label</th>\n    </tr>\n  </thead>\n  <tbody>\n    <tr>\n      <th>0</th>\n      <td>﻿怎么更改花呗手机号码</td>\n      <td>我的花呗是以前的手机号码，怎么更改成现在的支付宝的号码手机号</td>\n      <td>1</td>\n    </tr>\n    <tr>\n      <th>1</th>\n      <td>也开不了花呗，就这样了？完事了</td>\n      <td>真的嘛？就是花呗付款</td>\n      <td>0</td>\n    </tr>\n    <tr>\n      <th>2</th>\n      <td>花呗冻结以后还能开通吗</td>\n      <td>我的条件可以开通花呗借款吗</td>\n      <td>0</td>\n    </tr>\n    <tr>\n      <th>3</th>\n      <td>如何得知关闭借呗</td>\n      <td>想永久关闭借呗</td>\n      <td>0</td>\n    </tr>\n    <tr>\n      <th>4</th>\n      <td>花呗扫码付钱</td>\n      <td>二维码扫描可以用花呗吗</td>\n      <td>0</td>\n    </tr>\n  </tbody>\n</table>\n</div>"
     },
     "execution_count": 72,
     "metadata": {},
     "output_type": "execute_result"
    }
   ],
   "source": [
    "jieba.load_userdict('../data/dict.txt')\n",
    "df = pd.read_csv('../data/all.csv',encoding='utf-8-sig')\n",
    "df.head()"
   ],
   "metadata": {
    "collapsed": false,
    "pycharm": {
     "name": "#%%\n"
    }
   }
  },
  {
   "cell_type": "code",
   "execution_count": 73,
   "outputs": [
    {
     "name": "stdout",
     "output_type": "stream",
     "text": [
      "['\\ufeff', '怎么', '更改', '花呗', '手机号码']\n",
      "['怎么', '更改', '花呗', '手机号码']\n"
     ]
    }
   ],
   "source": [
    "a = jieba.lcut(df['s1'][0])\n",
    "print(a)\n",
    "a.remove('\\ufeff')\n",
    "print(a)"
   ],
   "metadata": {
    "collapsed": false,
    "pycharm": {
     "name": "#%%\n"
    }
   }
  },
  {
   "cell_type": "code",
   "execution_count": 74,
   "outputs": [],
   "source": [
    "df['len_s1'] = df.apply(lambda x: len(x['s1']),axis=1)\n",
    "df['len_s2'] = df.apply(lambda x: len(x['s2']),axis=1)\n",
    "df['len_s1s2_avg'] = (df['len_s1']+df['len_s2'])/2\n",
    "df['len_s1_on_s2'] = df['len_s1']/df['len_s2']\n",
    "\n",
    "df['len_diff'] = df.apply(lambda x: len(x['s1'])-len(x['s2']),axis=1)\n",
    "df['edit_dst'] = df.apply(lambda x: distance(x['s1'],x['s2']),axis=1)\n",
    "\n",
    "df['edit_dst_nzd'] = df['len_s1s2_avg']/df['edit_dst']"
   ],
   "metadata": {
    "collapsed": false,
    "pycharm": {
     "name": "#%%\n"
    }
   }
  },
  {
   "cell_type": "code",
   "execution_count": 75,
   "outputs": [],
   "source": [
    "def get_counts(row):\n",
    "    s1, s2 = row['s1'], row['s2']\n",
    "    list_s1 = jieba.lcut(s1)\n",
    "    list_s2 = jieba.lcut(s2)\n",
    "    to_remove = ['， ','，','*','* ','!','! ','？','？ ','。','。 ','','\\ufeff']\n",
    "    list_s1_cnd = [x for x in list_s1 if x not in to_remove]\n",
    "    list_s2_cnd = [x for x in list_s2 if x not in to_remove]\n",
    "    set_s1 = set(list_s1_cnd)\n",
    "    set_s2 = set(list_s2)\n",
    "    return list_s1_cnd, list_s2_cnd, \\\n",
    "           len(list_s1_cnd), len(list_s2_cnd), \\\n",
    "           len(set_s1.intersection(set_s2)), \\\n",
    "           len(set_s1-set_s2), len(set_s2-set_s1) \\\n",
    "\n",
    "\n",
    "df[['l1_tkd','l2_tkd','len_l1_tkd','len_l2_tkd','common_wc','s1_uq_wc','s2_uq_wc']]=df.apply(get_counts, axis=1,result_type='expand')"
   ],
   "metadata": {
    "collapsed": false,
    "pycharm": {
     "name": "#%%\n"
    }
   }
  },
  {
   "cell_type": "code",
   "execution_count": 92,
   "outputs": [
    {
     "data": {
      "text/plain": "['怎么', '更改', '花呗', '手机号码']"
     },
     "execution_count": 92,
     "metadata": {},
     "output_type": "execute_result"
    }
   ],
   "source": [
    "df['l1_tkd'][0]"
   ],
   "metadata": {
    "collapsed": false,
    "pycharm": {
     "name": "#%%\n"
    }
   }
  },
  {
   "cell_type": "code",
   "execution_count": 77,
   "outputs": [
    {
     "data": {
      "text/plain": "                s1                              s2  label  len_s1  len_s2  \\\n0      ﻿怎么更改花呗手机号码  我的花呗是以前的手机号码，怎么更改成现在的支付宝的号码手机号      1      11      30   \n1  也开不了花呗，就这样了？完事了                      真的嘛？就是花呗付款      0      15      10   \n2      花呗冻结以后还能开通吗                   我的条件可以开通花呗借款吗      0      11      13   \n3         如何得知关闭借呗                         想永久关闭借呗      0       8       7   \n4           花呗扫码付钱                     二维码扫描可以用花呗吗      0       6      11   \n\n   len_s1s2_avg  len_s1_on_s2  len_diff  edit_dst  edit_dst_nzd  \\\n0          20.5      0.366667       -19        24      0.854167   \n1          12.5      1.500000         5        14      0.892857   \n2          12.0      0.846154        -2        11      1.090909   \n3           7.5      1.142857         1         4      1.875000   \n4           8.5      0.545455        -5        10      0.850000   \n\n                            l1_tkd  \\\n0               [怎么, 更改, 花呗, 手机号码]   \n1  [也, 开, 不了, 花呗, 就, 这样, 了, 完事, 了]   \n2        [花呗, 冻结, 以后, 还, 能, 开通, 吗]   \n3                 [如何, 得知, 关闭, 借呗]   \n4                     [花呗, 扫码, 付钱]   \n\n                                              l2_tkd  len_l1_tkd  len_l2_tkd  \\\n0  [我, 的, 花呗, 是, 以前, 的, 手机号码, 怎么, 更, 改成, 现在, 的, 支...           4          16   \n1                                [真的, 嘛, 就是, 花呗, 付款]           9           5   \n2                      [我, 的, 条件, 可以, 开通, 花呗, 借款, 吗]           7           8   \n3                                    [想, 永久, 关闭, 借呗]           4           4   \n4                            [二维码, 扫描, 可以, 用, 花呗, 吗]           3           6   \n\n   common_wc  s1_uq_wc  s2_uq_wc  s1_ask  s2_ask  \n0          3         1        11    True   False  \n1          1         7         5   False   False  \n2          3         4         5   False   False  \n3          2         2         2    True   False  \n4          1         2         5   False   False  ",
      "text/html": "<div>\n<style scoped>\n    .dataframe tbody tr th:only-of-type {\n        vertical-align: middle;\n    }\n\n    .dataframe tbody tr th {\n        vertical-align: top;\n    }\n\n    .dataframe thead th {\n        text-align: right;\n    }\n</style>\n<table border=\"1\" class=\"dataframe\">\n  <thead>\n    <tr style=\"text-align: right;\">\n      <th></th>\n      <th>s1</th>\n      <th>s2</th>\n      <th>label</th>\n      <th>len_s1</th>\n      <th>len_s2</th>\n      <th>len_s1s2_avg</th>\n      <th>len_s1_on_s2</th>\n      <th>len_diff</th>\n      <th>edit_dst</th>\n      <th>edit_dst_nzd</th>\n      <th>l1_tkd</th>\n      <th>l2_tkd</th>\n      <th>len_l1_tkd</th>\n      <th>len_l2_tkd</th>\n      <th>common_wc</th>\n      <th>s1_uq_wc</th>\n      <th>s2_uq_wc</th>\n      <th>s1_ask</th>\n      <th>s2_ask</th>\n    </tr>\n  </thead>\n  <tbody>\n    <tr>\n      <th>0</th>\n      <td>﻿怎么更改花呗手机号码</td>\n      <td>我的花呗是以前的手机号码，怎么更改成现在的支付宝的号码手机号</td>\n      <td>1</td>\n      <td>11</td>\n      <td>30</td>\n      <td>20.5</td>\n      <td>0.366667</td>\n      <td>-19</td>\n      <td>24</td>\n      <td>0.854167</td>\n      <td>[怎么, 更改, 花呗, 手机号码]</td>\n      <td>[我, 的, 花呗, 是, 以前, 的, 手机号码, 怎么, 更, 改成, 现在, 的, 支...</td>\n      <td>4</td>\n      <td>16</td>\n      <td>3</td>\n      <td>1</td>\n      <td>11</td>\n      <td>True</td>\n      <td>False</td>\n    </tr>\n    <tr>\n      <th>1</th>\n      <td>也开不了花呗，就这样了？完事了</td>\n      <td>真的嘛？就是花呗付款</td>\n      <td>0</td>\n      <td>15</td>\n      <td>10</td>\n      <td>12.5</td>\n      <td>1.500000</td>\n      <td>5</td>\n      <td>14</td>\n      <td>0.892857</td>\n      <td>[也, 开, 不了, 花呗, 就, 这样, 了, 完事, 了]</td>\n      <td>[真的, 嘛, 就是, 花呗, 付款]</td>\n      <td>9</td>\n      <td>5</td>\n      <td>1</td>\n      <td>7</td>\n      <td>5</td>\n      <td>False</td>\n      <td>False</td>\n    </tr>\n    <tr>\n      <th>2</th>\n      <td>花呗冻结以后还能开通吗</td>\n      <td>我的条件可以开通花呗借款吗</td>\n      <td>0</td>\n      <td>11</td>\n      <td>13</td>\n      <td>12.0</td>\n      <td>0.846154</td>\n      <td>-2</td>\n      <td>11</td>\n      <td>1.090909</td>\n      <td>[花呗, 冻结, 以后, 还, 能, 开通, 吗]</td>\n      <td>[我, 的, 条件, 可以, 开通, 花呗, 借款, 吗]</td>\n      <td>7</td>\n      <td>8</td>\n      <td>3</td>\n      <td>4</td>\n      <td>5</td>\n      <td>False</td>\n      <td>False</td>\n    </tr>\n    <tr>\n      <th>3</th>\n      <td>如何得知关闭借呗</td>\n      <td>想永久关闭借呗</td>\n      <td>0</td>\n      <td>8</td>\n      <td>7</td>\n      <td>7.5</td>\n      <td>1.142857</td>\n      <td>1</td>\n      <td>4</td>\n      <td>1.875000</td>\n      <td>[如何, 得知, 关闭, 借呗]</td>\n      <td>[想, 永久, 关闭, 借呗]</td>\n      <td>4</td>\n      <td>4</td>\n      <td>2</td>\n      <td>2</td>\n      <td>2</td>\n      <td>True</td>\n      <td>False</td>\n    </tr>\n    <tr>\n      <th>4</th>\n      <td>花呗扫码付钱</td>\n      <td>二维码扫描可以用花呗吗</td>\n      <td>0</td>\n      <td>6</td>\n      <td>11</td>\n      <td>8.5</td>\n      <td>0.545455</td>\n      <td>-5</td>\n      <td>10</td>\n      <td>0.850000</td>\n      <td>[花呗, 扫码, 付钱]</td>\n      <td>[二维码, 扫描, 可以, 用, 花呗, 吗]</td>\n      <td>3</td>\n      <td>6</td>\n      <td>1</td>\n      <td>2</td>\n      <td>5</td>\n      <td>False</td>\n      <td>False</td>\n    </tr>\n  </tbody>\n</table>\n</div>"
     },
     "execution_count": 77,
     "metadata": {},
     "output_type": "execute_result"
    }
   ],
   "source": [
    "def find_askwords(row):\n",
    "    s1, s2 = row['l1_tkd'], row['l2_tkd']\n",
    "    ask_words = ['如何','怎么','为什么','为何','咋么']\n",
    "    s1_ask, s2_ask = False, False\n",
    "    if len(s1)>0 and s1[0] in ask_words:\n",
    "        s1_ask = True\n",
    "    if len(s2)>0 and s2[0] in ask_words:\n",
    "        s2_ask = True\n",
    "    return s1_ask, s2_ask\n",
    "\n",
    "df[['s1_ask','s2_ask']] = df.apply(find_askwords, axis=1,result_type='expand')\n",
    "df.head()\n"
   ],
   "metadata": {
    "collapsed": false,
    "pycharm": {
     "name": "#%%\n"
    }
   }
  },
  {
   "cell_type": "code",
   "execution_count": 77,
   "outputs": [],
   "source": [],
   "metadata": {
    "collapsed": false,
    "pycharm": {
     "name": "#%%\n"
    }
   }
  },
  {
   "cell_type": "code",
   "execution_count": 78,
   "outputs": [
    {
     "data": {
      "text/plain": "                s1                              s2  label  len_s1  len_s2  \\\n0      ﻿怎么更改花呗手机号码  我的花呗是以前的手机号码，怎么更改成现在的支付宝的号码手机号      1      11      30   \n1  也开不了花呗，就这样了？完事了                      真的嘛？就是花呗付款      0      15      10   \n2      花呗冻结以后还能开通吗                   我的条件可以开通花呗借款吗      0      11      13   \n3         如何得知关闭借呗                         想永久关闭借呗      0       8       7   \n4           花呗扫码付钱                     二维码扫描可以用花呗吗      0       6      11   \n\n   len_s1s2_avg  len_s1_on_s2  len_diff  edit_dst  edit_dst_nzd  ...  \\\n0          20.5      0.366667       -19        24      0.854167  ...   \n1          12.5      1.500000         5        14      0.892857  ...   \n2          12.0      0.846154        -2        11      1.090909  ...   \n3           7.5      1.142857         1         4      1.875000  ...   \n4           8.5      0.545455        -5        10      0.850000  ...   \n\n  len_l2_tkd common_wc  s1_uq_wc  s2_uq_wc  s1_ask  s2_ask  len_l1l2_tkd_avg  \\\n0         16         3         1        11    True   False              10.0   \n1          5         1         7         5   False   False               7.0   \n2          8         3         4         5   False   False               7.5   \n3          4         2         2         2    True   False               4.0   \n4          6         1         2         5   False   False               4.5   \n\n   common_wc_nzd  s1_uq_wc_nzd  s2_uq_wc_nzd  \n0       0.300000      0.250000      0.687500  \n1       0.142857      0.777778      1.000000  \n2       0.400000      0.571429      0.625000  \n3       0.500000      0.500000      0.500000  \n4       0.222222      0.666667      0.833333  \n\n[5 rows x 23 columns]",
      "text/html": "<div>\n<style scoped>\n    .dataframe tbody tr th:only-of-type {\n        vertical-align: middle;\n    }\n\n    .dataframe tbody tr th {\n        vertical-align: top;\n    }\n\n    .dataframe thead th {\n        text-align: right;\n    }\n</style>\n<table border=\"1\" class=\"dataframe\">\n  <thead>\n    <tr style=\"text-align: right;\">\n      <th></th>\n      <th>s1</th>\n      <th>s2</th>\n      <th>label</th>\n      <th>len_s1</th>\n      <th>len_s2</th>\n      <th>len_s1s2_avg</th>\n      <th>len_s1_on_s2</th>\n      <th>len_diff</th>\n      <th>edit_dst</th>\n      <th>edit_dst_nzd</th>\n      <th>...</th>\n      <th>len_l2_tkd</th>\n      <th>common_wc</th>\n      <th>s1_uq_wc</th>\n      <th>s2_uq_wc</th>\n      <th>s1_ask</th>\n      <th>s2_ask</th>\n      <th>len_l1l2_tkd_avg</th>\n      <th>common_wc_nzd</th>\n      <th>s1_uq_wc_nzd</th>\n      <th>s2_uq_wc_nzd</th>\n    </tr>\n  </thead>\n  <tbody>\n    <tr>\n      <th>0</th>\n      <td>﻿怎么更改花呗手机号码</td>\n      <td>我的花呗是以前的手机号码，怎么更改成现在的支付宝的号码手机号</td>\n      <td>1</td>\n      <td>11</td>\n      <td>30</td>\n      <td>20.5</td>\n      <td>0.366667</td>\n      <td>-19</td>\n      <td>24</td>\n      <td>0.854167</td>\n      <td>...</td>\n      <td>16</td>\n      <td>3</td>\n      <td>1</td>\n      <td>11</td>\n      <td>True</td>\n      <td>False</td>\n      <td>10.0</td>\n      <td>0.300000</td>\n      <td>0.250000</td>\n      <td>0.687500</td>\n    </tr>\n    <tr>\n      <th>1</th>\n      <td>也开不了花呗，就这样了？完事了</td>\n      <td>真的嘛？就是花呗付款</td>\n      <td>0</td>\n      <td>15</td>\n      <td>10</td>\n      <td>12.5</td>\n      <td>1.500000</td>\n      <td>5</td>\n      <td>14</td>\n      <td>0.892857</td>\n      <td>...</td>\n      <td>5</td>\n      <td>1</td>\n      <td>7</td>\n      <td>5</td>\n      <td>False</td>\n      <td>False</td>\n      <td>7.0</td>\n      <td>0.142857</td>\n      <td>0.777778</td>\n      <td>1.000000</td>\n    </tr>\n    <tr>\n      <th>2</th>\n      <td>花呗冻结以后还能开通吗</td>\n      <td>我的条件可以开通花呗借款吗</td>\n      <td>0</td>\n      <td>11</td>\n      <td>13</td>\n      <td>12.0</td>\n      <td>0.846154</td>\n      <td>-2</td>\n      <td>11</td>\n      <td>1.090909</td>\n      <td>...</td>\n      <td>8</td>\n      <td>3</td>\n      <td>4</td>\n      <td>5</td>\n      <td>False</td>\n      <td>False</td>\n      <td>7.5</td>\n      <td>0.400000</td>\n      <td>0.571429</td>\n      <td>0.625000</td>\n    </tr>\n    <tr>\n      <th>3</th>\n      <td>如何得知关闭借呗</td>\n      <td>想永久关闭借呗</td>\n      <td>0</td>\n      <td>8</td>\n      <td>7</td>\n      <td>7.5</td>\n      <td>1.142857</td>\n      <td>1</td>\n      <td>4</td>\n      <td>1.875000</td>\n      <td>...</td>\n      <td>4</td>\n      <td>2</td>\n      <td>2</td>\n      <td>2</td>\n      <td>True</td>\n      <td>False</td>\n      <td>4.0</td>\n      <td>0.500000</td>\n      <td>0.500000</td>\n      <td>0.500000</td>\n    </tr>\n    <tr>\n      <th>4</th>\n      <td>花呗扫码付钱</td>\n      <td>二维码扫描可以用花呗吗</td>\n      <td>0</td>\n      <td>6</td>\n      <td>11</td>\n      <td>8.5</td>\n      <td>0.545455</td>\n      <td>-5</td>\n      <td>10</td>\n      <td>0.850000</td>\n      <td>...</td>\n      <td>6</td>\n      <td>1</td>\n      <td>2</td>\n      <td>5</td>\n      <td>False</td>\n      <td>False</td>\n      <td>4.5</td>\n      <td>0.222222</td>\n      <td>0.666667</td>\n      <td>0.833333</td>\n    </tr>\n  </tbody>\n</table>\n<p>5 rows × 23 columns</p>\n</div>"
     },
     "execution_count": 78,
     "metadata": {},
     "output_type": "execute_result"
    }
   ],
   "source": [
    "df['len_l1l2_tkd_avg'] = (df['len_l1_tkd'] + df['len_l2_tkd']) / 2\n",
    "df['common_wc_nzd'] = df['common_wc'] / df['len_l1l2_tkd_avg']\n",
    "df['s1_uq_wc_nzd'] = df['s1_uq_wc']/df['len_l1_tkd']\n",
    "df['s2_uq_wc_nzd'] = df['s2_uq_wc']/df['len_l2_tkd']\n",
    "\n",
    "\n",
    "df.head()"
   ],
   "metadata": {
    "collapsed": false,
    "pycharm": {
     "name": "#%%\n"
    }
   }
  },
  {
   "cell_type": "code",
   "execution_count": 79,
   "outputs": [
    {
     "name": "stderr",
     "output_type": "stream",
     "text": [
      "/Users/FY/opt/anaconda3/envs/py36/lib/python3.6/site-packages/nltk/translate/bleu_score.py:516: UserWarning: \n",
      "The hypothesis contains 0 counts of 3-gram overlaps.\n",
      "Therefore the BLEU score evaluates to 0, independently of\n",
      "how many N-gram overlaps of lower order it contains.\n",
      "Consider using lower n-gram order or use SmoothingFunction()\n",
      "  warnings.warn(_msg)\n",
      "/Users/FY/opt/anaconda3/envs/py36/lib/python3.6/site-packages/nltk/translate/bleu_score.py:516: UserWarning: \n",
      "The hypothesis contains 0 counts of 4-gram overlaps.\n",
      "Therefore the BLEU score evaluates to 0, independently of\n",
      "how many N-gram overlaps of lower order it contains.\n",
      "Consider using lower n-gram order or use SmoothingFunction()\n",
      "  warnings.warn(_msg)\n",
      "/Users/FY/opt/anaconda3/envs/py36/lib/python3.6/site-packages/nltk/translate/bleu_score.py:516: UserWarning: \n",
      "The hypothesis contains 0 counts of 2-gram overlaps.\n",
      "Therefore the BLEU score evaluates to 0, independently of\n",
      "how many N-gram overlaps of lower order it contains.\n",
      "Consider using lower n-gram order or use SmoothingFunction()\n",
      "  warnings.warn(_msg)\n"
     ]
    }
   ],
   "source": [
    "from nltk.translate.bleu_score import sentence_bleu\n",
    "\n",
    "def get_ngram_bleu(row):\n",
    "    s1, s2 = row['s1'], row['s2']\n",
    "    list_s1 = [[x for x in s1]]\n",
    "    list_s2 = [x for x in s2]\n",
    "    b1 = sentence_bleu(list_s1, list_s2, weights=(1, 0, 0, 0))\n",
    "    b2 = sentence_bleu(list_s1, list_s2, weights=(0.5, 0.5, 0, 0))\n",
    "    b3 = sentence_bleu(list_s1, list_s2, weights=(0.33, 0.33, 0.33, 0))\n",
    "    b4 = sentence_bleu(list_s1, list_s2, weights=(0.25, 0.25, 0.25, 0.25))\n",
    "    return b1, b2, b3, b4\n",
    "\n",
    "df[['bleu1','bleu2','bleu3','bleu4']]=df.apply(get_ngram_bleu, axis=1,result_type='expand')"
   ],
   "metadata": {
    "collapsed": false,
    "pycharm": {
     "name": "#%%\n"
    }
   }
  },
  {
   "cell_type": "code",
   "execution_count": 91,
   "outputs": [
    {
     "data": {
      "text/plain": "s1                                                        ﻿怎么更改花呗手机号码\ns2                                     我的花呗是以前的手机号码，怎么更改成现在的支付宝的号码手机号\nlabel                                                               1\nlen_s1                                                             11\nlen_s2                                                             30\nlen_s1s2_avg                                                     20.5\nlen_s1_on_s2                                                 0.366667\nlen_diff                                                          -19\nedit_dst                                                           24\nedit_dst_nzd                                                 0.854167\nl1_tkd                                             [怎么, 更改, 花呗, 手机号码]\nl2_tkd              [我, 的, 花呗, 是, 以前, 的, 手机号码, 怎么, 更, 改成, 现在, 的, 支...\nlen_l1_tkd                                                          4\nlen_l2_tkd                                                         16\ncommon_wc                                                           3\ns1_uq_wc                                                            1\ns2_uq_wc                                                           11\ns1_ask                                                           True\ns2_ask                                                          False\nlen_l1l2_tkd_avg                                                   10\ncommon_wc_nzd                                                     0.3\ns1_uq_wc_nzd                                                     0.25\ns2_uq_wc_nzd                                                   0.6875\nbleu1                                                        0.333333\nbleu2                                                        0.283654\nbleu3                                                        0.229065\nbleu4                                                        0.170819\nName: 0, dtype: object"
     },
     "execution_count": 91,
     "metadata": {},
     "output_type": "execute_result"
    }
   ],
   "source": [
    "df.iloc[0]"
   ],
   "metadata": {
    "collapsed": false,
    "pycharm": {
     "name": "#%%\n"
    }
   }
  },
  {
   "cell_type": "code",
   "execution_count": null,
   "outputs": [],
   "source": [
    "import pandas as pd\n",
    "from Levenshtein import distance\n",
    "import jieba"
   ],
   "metadata": {
    "collapsed": false,
    "pycharm": {
     "name": "#%%\n"
    }
   }
  },
  {
   "cell_type": "code",
   "execution_count": null,
   "outputs": [],
   "source": [
    "jieba.load_userdict('../data/dict.txt')\n",
    "df = pd.read_csv('../data/all.csv',encoding='utf-8-sig')\n",
    "df.head()"
   ],
   "metadata": {
    "collapsed": false,
    "pycharm": {
     "name": "#%%\n"
    }
   }
  },
  {
   "cell_type": "code",
   "execution_count": null,
   "outputs": [],
   "source": [
    "a = jieba.lcut(df['s1'][0])\n",
    "print(a)\n",
    "a.remove('\\ufeff')\n",
    "print(a)"
   ],
   "metadata": {
    "collapsed": false,
    "pycharm": {
     "name": "#%%\n"
    }
   }
  },
  {
   "cell_type": "code",
   "execution_count": null,
   "outputs": [],
   "source": [
    "df['len_s1'] = df.apply(lambda x: len(x['s1']),axis=1)\n",
    "df['len_s2'] = df.apply(lambda x: len(x['s2']),axis=1)\n",
    "df['len_s1s2_avg'] = (df['len_s1']+df['len_s2'])/2\n",
    "df['len_s1_on_s2'] = df['len_s1']/df['len_s2']\n",
    "\n",
    "df['len_diff'] = df.apply(lambda x: len(x['s1'])-len(x['s2']),axis=1)\n",
    "df['edit_dst'] = df.apply(lambda x: distance(x['s1'],x['s2']),axis=1)\n",
    "\n",
    "df['edit_dst_nzd'] = df['len_s1s2_avg']/df['edit_dst']"
   ],
   "metadata": {
    "collapsed": false,
    "pycharm": {
     "name": "#%%\n"
    }
   }
  },
  {
   "cell_type": "code",
   "execution_count": null,
   "outputs": [],
   "source": [
    "def get_counts(row):\n",
    "    s1, s2 = row['s1'], row['s2']\n",
    "    list_s1 = jieba.lcut(s1)\n",
    "    list_s2 = jieba.lcut(s2)\n",
    "    to_remove = ['， ','，','*','* ','!','! ','？','？ ','。','。 ','','\\ufeff']\n",
    "    list_s1_cnd = [x for x in list_s1 if x not in to_remove]\n",
    "    list_s2_cnd = [x for x in list_s2 if x not in to_remove]\n",
    "    set_s1 = set(list_s1_cnd)\n",
    "    set_s2 = set(list_s2)\n",
    "    return list_s1_cnd, list_s2_cnd, \\\n",
    "           len(list_s1_cnd), len(list_s2_cnd), \\\n",
    "           len(set_s1.intersection(set_s2)), \\\n",
    "           len(set_s1-set_s2), len(set_s2-set_s1) \\\n",
    "\n",
    "\n",
    "df[['l1_tkd','l2_tkd','len_l1_tkd','len_l2_tkd','common_wc','s1_uq_wc','s2_uq_wc']]=df.apply(get_counts, axis=1,result_type='expand')"
   ],
   "metadata": {
    "collapsed": false,
    "pycharm": {
     "name": "#%%\n"
    }
   }
  },
  {
   "cell_type": "code",
   "execution_count": null,
   "outputs": [],
   "source": [
    "df['l1_tkd'][0]"
   ],
   "metadata": {
    "collapsed": false,
    "pycharm": {
     "name": "#%%\n"
    }
   }
  },
  {
   "cell_type": "code",
   "execution_count": null,
   "outputs": [],
   "source": [
    "def find_askwords(row):\n",
    "    s1, s2 = row['l1_tkd'], row['l2_tkd']\n",
    "    ask_words = ['如何','怎么','为什么','为何','咋么']\n",
    "    s1_ask, s2_ask = False, False\n",
    "    if len(s1)>0 and s1[0] in ask_words:\n",
    "        s1_ask = True\n",
    "    if len(s2)>0 and s2[0] in ask_words:\n",
    "        s2_ask = True\n",
    "    return s1_ask, s2_ask\n",
    "\n",
    "df[['s1_ask','s2_ask']] = df.apply(find_askwords, axis=1,result_type='expand')\n",
    "df.head()\n"
   ],
   "metadata": {
    "collapsed": false,
    "pycharm": {
     "name": "#%%\n"
    }
   }
  },
  {
   "cell_type": "code",
   "execution_count": null,
   "outputs": [],
   "source": [],
   "metadata": {
    "collapsed": false,
    "pycharm": {
     "name": "#%%\n"
    }
   }
  },
  {
   "cell_type": "code",
   "execution_count": null,
   "outputs": [],
   "source": [
    "df['len_l1l2_tkd_avg'] = (df['len_l1_tkd'] + df['len_l2_tkd']) / 2\n",
    "df['common_wc_nzd'] = df['common_wc'] / df['len_l1l2_tkd_avg']\n",
    "df['s1_uq_wc_nzd'] = df['s1_uq_wc']/df['len_l1_tkd']\n",
    "df['s2_uq_wc_nzd'] = df['s2_uq_wc']/df['len_l2_tkd']\n",
    "\n",
    "\n",
    "df.head()"
   ],
   "metadata": {
    "collapsed": false,
    "pycharm": {
     "name": "#%%\n"
    }
   }
  },
  {
   "cell_type": "code",
   "execution_count": null,
   "outputs": [],
   "source": [
    "from nltk.translate.bleu_score import sentence_bleu\n",
    "\n",
    "def get_ngram_bleu(row):\n",
    "    s1, s2 = row['s1'], row['s2']\n",
    "    list_s1 = [[x for x in s1]]\n",
    "    list_s2 = [x for x in s2]\n",
    "    b1 = sentence_bleu(list_s1, list_s2, weights=(1, 0, 0, 0))\n",
    "    b2 = sentence_bleu(list_s1, list_s2, weights=(0.5, 0.5, 0, 0))\n",
    "    b3 = sentence_bleu(list_s1, list_s2, weights=(0.33, 0.33, 0.33, 0))\n",
    "    b4 = sentence_bleu(list_s1, list_s2, weights=(0.25, 0.25, 0.25, 0.25))\n",
    "    return b1, b2, b3, b4\n",
    "\n",
    "df[['bleu1','bleu2','bleu3','bleu4']]=df.apply(get_ngram_bleu, axis=1,result_type='expand')"
   ],
   "metadata": {
    "collapsed": false,
    "pycharm": {
     "name": "#%%\n"
    }
   }
  },
  {
   "cell_type": "code",
   "execution_count": null,
   "outputs": [],
   "source": [
    "df.iloc[0]"
   ],
   "metadata": {
    "collapsed": false,
    "pycharm": {
     "name": "#%%\n"
    }
   }
  },
  {
   "cell_type": "code",
   "execution_count": null,
   "outputs": [],
   "source": [
    "df.to_csv('../data/trd_feated.csv',index=False)"
   ],
   "metadata": {
    "collapsed": false,
    "pycharm": {
     "name": "#%%\n"
    }
   }
  },
  {
   "cell_type": "code",
   "execution_count": null,
   "outputs": [],
   "source": [
    "df.shape"
   ],
   "metadata": {
    "collapsed": false,
    "pycharm": {
     "name": "#%%\n"
    }
   }
  },
  {
   "cell_type": "code",
   "execution_count": null,
   "outputs": [],
   "source": [],
   "metadata": {
    "collapsed": false,
    "pycharm": {
     "name": "#%%\n"
    }
   }
  },
  {
   "cell_type": "code",
   "execution_count": 88,
   "outputs": [],
   "source": [
    "df.to_csv('../data/trd_feated.csv',index=False)"
   ],
   "metadata": {
    "collapsed": false,
    "pycharm": {
     "name": "#%%\n"
    }
   }
  },
  {
   "cell_type": "code",
   "execution_count": 89,
   "outputs": [
    {
     "data": {
      "text/plain": "(102477, 27)"
     },
     "execution_count": 89,
     "metadata": {},
     "output_type": "execute_result"
    }
   ],
   "source": [
    "df.shape"
   ],
   "metadata": {
    "collapsed": false,
    "pycharm": {
     "name": "#%%\n"
    }
   }
  },
  {
   "cell_type": "code",
   "execution_count": 82,
   "outputs": [],
   "source": [],
   "metadata": {
    "collapsed": false,
    "pycharm": {
     "name": "#%%\n"
    }
   }
  }
 ],
 "metadata": {
  "kernelspec": {
   "name": "atec",
   "language": "python",
   "display_name": "atec"
  },
  "language_info": {
   "codemirror_mode": {
    "name": "ipython",
    "version": 2
   },
   "file_extension": ".py",
   "mimetype": "text/x-python",
   "name": "python",
   "nbconvert_exporter": "python",
   "pygments_lexer": "ipython2",
   "version": "2.7.6"
  }
 },
 "nbformat": 4,
 "nbformat_minor": 0
}