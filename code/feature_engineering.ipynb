{
 "cells": [
  {
   "cell_type": "code",
   "execution_count": 1,
   "outputs": [],
   "source": [
    "import os\n",
    "path = 'C:\\\\workspaceWin\\\\ATEC\\\\code'\n",
    "os.chdir(path)"
   ],
   "metadata": {
    "collapsed": false,
    "pycharm": {
     "name": "#%%\n"
    }
   }
  },
  {
   "cell_type": "code",
   "execution_count": 2,
   "outputs": [],
   "source": [
    "import pandas as pd\n",
    "from Levenshtein import distance\n",
    "import jieba"
   ],
   "metadata": {
    "collapsed": false,
    "pycharm": {
     "name": "#%%\n"
    }
   }
  },
  {
   "cell_type": "code",
   "execution_count": 3,
   "outputs": [
    {
     "name": "stderr",
     "output_type": "stream",
     "text": [
      "Building prefix dict from the default dictionary ...\n",
      "Loading model from cache C:\\Users\\冯源\\AppData\\Local\\Temp\\jieba.cache\n",
      "Loading model cost 0.631 seconds.\n",
      "Prefix dict has been built succesfully.\n"
     ]
    },
    {
     "data": {
      "text/plain": "                s1                              s2  label\n0      ﻿怎么更改花呗手机号码  我的花呗是以前的手机号码，怎么更改成现在的支付宝的号码手机号      1\n1  也开不了花呗，就这样了？完事了                      真的嘛？就是花呗付款      0\n2      花呗冻结以后还能开通吗                   我的条件可以开通花呗借款吗      0\n3         如何得知关闭借呗                         想永久关闭借呗      0\n4           花呗扫码付钱                     二维码扫描可以用花呗吗      0",
      "text/html": "<div>\n<style scoped>\n    .dataframe tbody tr th:only-of-type {\n        vertical-align: middle;\n    }\n\n    .dataframe tbody tr th {\n        vertical-align: top;\n    }\n\n    .dataframe thead th {\n        text-align: right;\n    }\n</style>\n<table border=\"1\" class=\"dataframe\">\n  <thead>\n    <tr style=\"text-align: right;\">\n      <th></th>\n      <th>s1</th>\n      <th>s2</th>\n      <th>label</th>\n    </tr>\n  </thead>\n  <tbody>\n    <tr>\n      <th>0</th>\n      <td>﻿怎么更改花呗手机号码</td>\n      <td>我的花呗是以前的手机号码，怎么更改成现在的支付宝的号码手机号</td>\n      <td>1</td>\n    </tr>\n    <tr>\n      <th>1</th>\n      <td>也开不了花呗，就这样了？完事了</td>\n      <td>真的嘛？就是花呗付款</td>\n      <td>0</td>\n    </tr>\n    <tr>\n      <th>2</th>\n      <td>花呗冻结以后还能开通吗</td>\n      <td>我的条件可以开通花呗借款吗</td>\n      <td>0</td>\n    </tr>\n    <tr>\n      <th>3</th>\n      <td>如何得知关闭借呗</td>\n      <td>想永久关闭借呗</td>\n      <td>0</td>\n    </tr>\n    <tr>\n      <th>4</th>\n      <td>花呗扫码付钱</td>\n      <td>二维码扫描可以用花呗吗</td>\n      <td>0</td>\n    </tr>\n  </tbody>\n</table>\n</div>"
     },
     "execution_count": 3,
     "metadata": {},
     "output_type": "execute_result"
    }
   ],
   "source": [
    "jieba.load_userdict('../data/dict.txt')\n",
    "df = pd.read_csv('../data/all.csv',encoding='utf-8-sig')\n",
    "df.head()"
   ],
   "metadata": {
    "collapsed": false,
    "pycharm": {
     "name": "#%%\n"
    }
   }
  },
  {
   "cell_type": "code",
   "execution_count": 4,
   "outputs": [
    {
     "name": "stdout",
     "output_type": "stream",
     "text": [
      "['\\ufeff', '怎么', '更改', '花呗', '手机号码']\n",
      "['怎么', '更改', '花呗', '手机号码']\n"
     ]
    }
   ],
   "source": [
    "a = jieba.lcut(df['s1'][0])\n",
    "print(a)\n",
    "a.remove('\\ufeff')\n",
    "print(a)"
   ],
   "metadata": {
    "collapsed": false,
    "pycharm": {
     "name": "#%%\n"
    }
   }
  },
  {
   "cell_type": "code",
   "execution_count": 5,
   "outputs": [],
   "source": [
    "df['len_s1'] = df.apply(lambda x: len(x['s1']),axis=1)\n",
    "df['len_s2'] = df.apply(lambda x: len(x['s2']),axis=1)\n",
    "df['len_s1s2_avg'] = (df['len_s1']+df['len_s2'])/2\n",
    "df['len_s1_on_s2'] = df['len_s1']/df['len_s2']\n",
    "\n",
    "df['len_diff'] = df.apply(lambda x: len(x['s1'])-len(x['s2']),axis=1)\n",
    "df['edit_dst'] = df.apply(lambda x: distance(x['s1'],x['s2']),axis=1)\n",
    "\n",
    "df['edit_dst_nzd'] = df['edit_dst']/df['len_s1s2_avg']"
   ],
   "metadata": {
    "collapsed": false,
    "pycharm": {
     "name": "#%%\n"
    }
   }
  },
  {
   "cell_type": "code",
   "execution_count": 6,
   "outputs": [],
   "source": [
    "def get_counts(row):\n",
    "    s1, s2 = row['s1'], row['s2']\n",
    "    list_s1 = jieba.lcut(s1)\n",
    "    list_s2 = jieba.lcut(s2)\n",
    "    to_remove = ['， ','，','*','* ','!','! ','？','？ ','。','。 ','','\\ufeff']\n",
    "    list_s1_cnd = [x for x in list_s1 if x not in to_remove]\n",
    "    list_s2_cnd = [x for x in list_s2 if x not in to_remove]\n",
    "    set_s1 = set(list_s1_cnd)\n",
    "    set_s2 = set(list_s2)\n",
    "    return list_s1_cnd, list_s2_cnd, \\\n",
    "           len(list_s1_cnd), len(list_s2_cnd), \\\n",
    "           len(set_s1.intersection(set_s2)), \\\n",
    "           len(set_s1-set_s2), len(set_s2-set_s1) \\\n",
    "\n",
    "\n",
    "df[['l1_tkd','l2_tkd','len_l1_tkd','len_l2_tkd','common_wc','s1_uq_wc','s2_uq_wc']]=df.apply(get_counts, axis=1,result_type='expand')\n"
   ],
   "metadata": {
    "collapsed": false,
    "pycharm": {
     "name": "#%%\n"
    }
   }
  },
  {
   "cell_type": "code",
   "execution_count": 7,
   "outputs": [
    {
     "data": {
      "text/plain": "                s1                              s2  label  len_s1  len_s2  \\\n0      ﻿怎么更改花呗手机号码  我的花呗是以前的手机号码，怎么更改成现在的支付宝的号码手机号      1      11      30   \n1  也开不了花呗，就这样了？完事了                      真的嘛？就是花呗付款      0      15      10   \n2      花呗冻结以后还能开通吗                   我的条件可以开通花呗借款吗      0      11      13   \n3         如何得知关闭借呗                         想永久关闭借呗      0       8       7   \n4           花呗扫码付钱                     二维码扫描可以用花呗吗      0       6      11   \n\n   len_s1s2_avg  len_s1_on_s2  len_diff  edit_dst  edit_dst_nzd  \\\n0          20.5      0.366667       -19        24      1.170732   \n1          12.5      1.500000         5        14      1.120000   \n2          12.0      0.846154        -2        11      0.916667   \n3           7.5      1.142857         1         4      0.533333   \n4           8.5      0.545455        -5        10      1.176471   \n\n                            l1_tkd  \\\n0               [怎么, 更改, 花呗, 手机号码]   \n1  [也, 开, 不了, 花呗, 就, 这样, 了, 完事, 了]   \n2        [花呗, 冻结, 以后, 还, 能, 开通, 吗]   \n3                 [如何, 得知, 关闭, 借呗]   \n4                     [花呗, 扫码, 付钱]   \n\n                                              l2_tkd  len_l1_tkd  len_l2_tkd  \\\n0  [我, 的, 花呗, 是, 以前, 的, 手机号码, 怎么, 更, 改成, 现在, 的, 支...           4          16   \n1                                [真的, 嘛, 就是, 花呗, 付款]           9           5   \n2                      [我, 的, 条件, 可以, 开通, 花呗, 借款, 吗]           7           8   \n3                                    [想, 永久, 关闭, 借呗]           4           4   \n4                            [二维码, 扫描, 可以, 用, 花呗, 吗]           3           6   \n\n   common_wc  s1_uq_wc  s2_uq_wc  s1_ask  s2_ask  \n0          3         1        11    True   False  \n1          1         7         5   False   False  \n2          3         4         5   False   False  \n3          2         2         2    True   False  \n4          1         2         5   False   False  ",
      "text/html": "<div>\n<style scoped>\n    .dataframe tbody tr th:only-of-type {\n        vertical-align: middle;\n    }\n\n    .dataframe tbody tr th {\n        vertical-align: top;\n    }\n\n    .dataframe thead th {\n        text-align: right;\n    }\n</style>\n<table border=\"1\" class=\"dataframe\">\n  <thead>\n    <tr style=\"text-align: right;\">\n      <th></th>\n      <th>s1</th>\n      <th>s2</th>\n      <th>label</th>\n      <th>len_s1</th>\n      <th>len_s2</th>\n      <th>len_s1s2_avg</th>\n      <th>len_s1_on_s2</th>\n      <th>len_diff</th>\n      <th>edit_dst</th>\n      <th>edit_dst_nzd</th>\n      <th>l1_tkd</th>\n      <th>l2_tkd</th>\n      <th>len_l1_tkd</th>\n      <th>len_l2_tkd</th>\n      <th>common_wc</th>\n      <th>s1_uq_wc</th>\n      <th>s2_uq_wc</th>\n      <th>s1_ask</th>\n      <th>s2_ask</th>\n    </tr>\n  </thead>\n  <tbody>\n    <tr>\n      <th>0</th>\n      <td>﻿怎么更改花呗手机号码</td>\n      <td>我的花呗是以前的手机号码，怎么更改成现在的支付宝的号码手机号</td>\n      <td>1</td>\n      <td>11</td>\n      <td>30</td>\n      <td>20.5</td>\n      <td>0.366667</td>\n      <td>-19</td>\n      <td>24</td>\n      <td>1.170732</td>\n      <td>[怎么, 更改, 花呗, 手机号码]</td>\n      <td>[我, 的, 花呗, 是, 以前, 的, 手机号码, 怎么, 更, 改成, 现在, 的, 支...</td>\n      <td>4</td>\n      <td>16</td>\n      <td>3</td>\n      <td>1</td>\n      <td>11</td>\n      <td>True</td>\n      <td>False</td>\n    </tr>\n    <tr>\n      <th>1</th>\n      <td>也开不了花呗，就这样了？完事了</td>\n      <td>真的嘛？就是花呗付款</td>\n      <td>0</td>\n      <td>15</td>\n      <td>10</td>\n      <td>12.5</td>\n      <td>1.500000</td>\n      <td>5</td>\n      <td>14</td>\n      <td>1.120000</td>\n      <td>[也, 开, 不了, 花呗, 就, 这样, 了, 完事, 了]</td>\n      <td>[真的, 嘛, 就是, 花呗, 付款]</td>\n      <td>9</td>\n      <td>5</td>\n      <td>1</td>\n      <td>7</td>\n      <td>5</td>\n      <td>False</td>\n      <td>False</td>\n    </tr>\n    <tr>\n      <th>2</th>\n      <td>花呗冻结以后还能开通吗</td>\n      <td>我的条件可以开通花呗借款吗</td>\n      <td>0</td>\n      <td>11</td>\n      <td>13</td>\n      <td>12.0</td>\n      <td>0.846154</td>\n      <td>-2</td>\n      <td>11</td>\n      <td>0.916667</td>\n      <td>[花呗, 冻结, 以后, 还, 能, 开通, 吗]</td>\n      <td>[我, 的, 条件, 可以, 开通, 花呗, 借款, 吗]</td>\n      <td>7</td>\n      <td>8</td>\n      <td>3</td>\n      <td>4</td>\n      <td>5</td>\n      <td>False</td>\n      <td>False</td>\n    </tr>\n    <tr>\n      <th>3</th>\n      <td>如何得知关闭借呗</td>\n      <td>想永久关闭借呗</td>\n      <td>0</td>\n      <td>8</td>\n      <td>7</td>\n      <td>7.5</td>\n      <td>1.142857</td>\n      <td>1</td>\n      <td>4</td>\n      <td>0.533333</td>\n      <td>[如何, 得知, 关闭, 借呗]</td>\n      <td>[想, 永久, 关闭, 借呗]</td>\n      <td>4</td>\n      <td>4</td>\n      <td>2</td>\n      <td>2</td>\n      <td>2</td>\n      <td>True</td>\n      <td>False</td>\n    </tr>\n    <tr>\n      <th>4</th>\n      <td>花呗扫码付钱</td>\n      <td>二维码扫描可以用花呗吗</td>\n      <td>0</td>\n      <td>6</td>\n      <td>11</td>\n      <td>8.5</td>\n      <td>0.545455</td>\n      <td>-5</td>\n      <td>10</td>\n      <td>1.176471</td>\n      <td>[花呗, 扫码, 付钱]</td>\n      <td>[二维码, 扫描, 可以, 用, 花呗, 吗]</td>\n      <td>3</td>\n      <td>6</td>\n      <td>1</td>\n      <td>2</td>\n      <td>5</td>\n      <td>False</td>\n      <td>False</td>\n    </tr>\n  </tbody>\n</table>\n</div>"
     },
     "execution_count": 7,
     "metadata": {},
     "output_type": "execute_result"
    }
   ],
   "source": [
    "def find_askwords(row):\n",
    "    s1, s2 = row['l1_tkd'], row['l2_tkd']\n",
    "    ask_words = ['如何','怎么','为什么','为何','咋么']\n",
    "    s1_ask, s2_ask = False, False\n",
    "    if len(s1)>0 and s1[0] in ask_words:\n",
    "        s1_ask = True\n",
    "    if len(s2)>0 and s2[0] in ask_words:\n",
    "        s2_ask = True\n",
    "    return s1_ask, s2_ask\n",
    "\n",
    "df[['s1_ask','s2_ask']] = df.apply(find_askwords, axis=1,result_type='expand')\n",
    "df.head()\n"
   ],
   "metadata": {
    "collapsed": false,
    "pycharm": {
     "name": "#%%\n"
    }
   }
  },
  {
   "cell_type": "code",
   "execution_count": 8,
   "outputs": [
    {
     "data": {
      "text/plain": "                s1                              s2  label  len_s1  len_s2  \\\n0      ﻿怎么更改花呗手机号码  我的花呗是以前的手机号码，怎么更改成现在的支付宝的号码手机号      1      11      30   \n1  也开不了花呗，就这样了？完事了                      真的嘛？就是花呗付款      0      15      10   \n2      花呗冻结以后还能开通吗                   我的条件可以开通花呗借款吗      0      11      13   \n3         如何得知关闭借呗                         想永久关闭借呗      0       8       7   \n4           花呗扫码付钱                     二维码扫描可以用花呗吗      0       6      11   \n\n   len_s1s2_avg  len_s1_on_s2  len_diff  edit_dst  edit_dst_nzd  ...  \\\n0          20.5      0.366667       -19        24      1.170732  ...   \n1          12.5      1.500000         5        14      1.120000  ...   \n2          12.0      0.846154        -2        11      0.916667  ...   \n3           7.5      1.142857         1         4      0.533333  ...   \n4           8.5      0.545455        -5        10      1.176471  ...   \n\n  len_l2_tkd common_wc  s1_uq_wc  s2_uq_wc  s1_ask  s2_ask  len_l1l2_tkd_avg  \\\n0         16         3         1        11    True   False              10.0   \n1          5         1         7         5   False   False               7.0   \n2          8         3         4         5   False   False               7.5   \n3          4         2         2         2    True   False               4.0   \n4          6         1         2         5   False   False               4.5   \n\n   common_wc_nzd  s1_uq_wc_nzd  s2_uq_wc_nzd  \n0       0.272727           0.2      0.647059  \n1       0.125000           0.7      0.833333  \n2       0.352941           0.5      0.555556  \n3       0.400000           0.4      0.400000  \n4       0.181818           0.5      0.714286  \n\n[5 rows x 23 columns]",
      "text/html": "<div>\n<style scoped>\n    .dataframe tbody tr th:only-of-type {\n        vertical-align: middle;\n    }\n\n    .dataframe tbody tr th {\n        vertical-align: top;\n    }\n\n    .dataframe thead th {\n        text-align: right;\n    }\n</style>\n<table border=\"1\" class=\"dataframe\">\n  <thead>\n    <tr style=\"text-align: right;\">\n      <th></th>\n      <th>s1</th>\n      <th>s2</th>\n      <th>label</th>\n      <th>len_s1</th>\n      <th>len_s2</th>\n      <th>len_s1s2_avg</th>\n      <th>len_s1_on_s2</th>\n      <th>len_diff</th>\n      <th>edit_dst</th>\n      <th>edit_dst_nzd</th>\n      <th>...</th>\n      <th>len_l2_tkd</th>\n      <th>common_wc</th>\n      <th>s1_uq_wc</th>\n      <th>s2_uq_wc</th>\n      <th>s1_ask</th>\n      <th>s2_ask</th>\n      <th>len_l1l2_tkd_avg</th>\n      <th>common_wc_nzd</th>\n      <th>s1_uq_wc_nzd</th>\n      <th>s2_uq_wc_nzd</th>\n    </tr>\n  </thead>\n  <tbody>\n    <tr>\n      <th>0</th>\n      <td>﻿怎么更改花呗手机号码</td>\n      <td>我的花呗是以前的手机号码，怎么更改成现在的支付宝的号码手机号</td>\n      <td>1</td>\n      <td>11</td>\n      <td>30</td>\n      <td>20.5</td>\n      <td>0.366667</td>\n      <td>-19</td>\n      <td>24</td>\n      <td>1.170732</td>\n      <td>...</td>\n      <td>16</td>\n      <td>3</td>\n      <td>1</td>\n      <td>11</td>\n      <td>True</td>\n      <td>False</td>\n      <td>10.0</td>\n      <td>0.272727</td>\n      <td>0.2</td>\n      <td>0.647059</td>\n    </tr>\n    <tr>\n      <th>1</th>\n      <td>也开不了花呗，就这样了？完事了</td>\n      <td>真的嘛？就是花呗付款</td>\n      <td>0</td>\n      <td>15</td>\n      <td>10</td>\n      <td>12.5</td>\n      <td>1.500000</td>\n      <td>5</td>\n      <td>14</td>\n      <td>1.120000</td>\n      <td>...</td>\n      <td>5</td>\n      <td>1</td>\n      <td>7</td>\n      <td>5</td>\n      <td>False</td>\n      <td>False</td>\n      <td>7.0</td>\n      <td>0.125000</td>\n      <td>0.7</td>\n      <td>0.833333</td>\n    </tr>\n    <tr>\n      <th>2</th>\n      <td>花呗冻结以后还能开通吗</td>\n      <td>我的条件可以开通花呗借款吗</td>\n      <td>0</td>\n      <td>11</td>\n      <td>13</td>\n      <td>12.0</td>\n      <td>0.846154</td>\n      <td>-2</td>\n      <td>11</td>\n      <td>0.916667</td>\n      <td>...</td>\n      <td>8</td>\n      <td>3</td>\n      <td>4</td>\n      <td>5</td>\n      <td>False</td>\n      <td>False</td>\n      <td>7.5</td>\n      <td>0.352941</td>\n      <td>0.5</td>\n      <td>0.555556</td>\n    </tr>\n    <tr>\n      <th>3</th>\n      <td>如何得知关闭借呗</td>\n      <td>想永久关闭借呗</td>\n      <td>0</td>\n      <td>8</td>\n      <td>7</td>\n      <td>7.5</td>\n      <td>1.142857</td>\n      <td>1</td>\n      <td>4</td>\n      <td>0.533333</td>\n      <td>...</td>\n      <td>4</td>\n      <td>2</td>\n      <td>2</td>\n      <td>2</td>\n      <td>True</td>\n      <td>False</td>\n      <td>4.0</td>\n      <td>0.400000</td>\n      <td>0.4</td>\n      <td>0.400000</td>\n    </tr>\n    <tr>\n      <th>4</th>\n      <td>花呗扫码付钱</td>\n      <td>二维码扫描可以用花呗吗</td>\n      <td>0</td>\n      <td>6</td>\n      <td>11</td>\n      <td>8.5</td>\n      <td>0.545455</td>\n      <td>-5</td>\n      <td>10</td>\n      <td>1.176471</td>\n      <td>...</td>\n      <td>6</td>\n      <td>1</td>\n      <td>2</td>\n      <td>5</td>\n      <td>False</td>\n      <td>False</td>\n      <td>4.5</td>\n      <td>0.181818</td>\n      <td>0.5</td>\n      <td>0.714286</td>\n    </tr>\n  </tbody>\n</table>\n<p>5 rows × 23 columns</p>\n</div>"
     },
     "execution_count": 8,
     "metadata": {},
     "output_type": "execute_result"
    }
   ],
   "source": [
    "df['len_l1l2_tkd_avg'] = (df['len_l1_tkd'] + df['len_l2_tkd']) / 2\n",
    "df['common_wc_nzd'] = df['common_wc'] / (df['len_l1l2_tkd_avg']+1)\n",
    "df['s1_uq_wc_nzd'] = df['s1_uq_wc']/(df['len_l1_tkd']+1)\n",
    "df['s2_uq_wc_nzd'] = df['s2_uq_wc']/(df['len_l2_tkd']+1)\n",
    "\n",
    "\n",
    "df.head()"
   ],
   "metadata": {
    "collapsed": false,
    "pycharm": {
     "name": "#%%\n"
    }
   }
  },
  {
   "cell_type": "code",
   "execution_count": 9,
   "outputs": [
    {
     "data": {
      "text/plain": "0"
     },
     "execution_count": 9,
     "metadata": {},
     "output_type": "execute_result"
    }
   ],
   "source": [
    "df['len_l2_tkd'].min()"
   ],
   "metadata": {
    "collapsed": false,
    "pycharm": {
     "name": "#%%\n"
    }
   }
  },
  {
   "cell_type": "code",
   "execution_count": 10,
   "outputs": [
    {
     "name": "stderr",
     "output_type": "stream",
     "text": [
      "C:\\Utilities\\anaconda\\envs\\py36\\lib\\site-packages\\nltk\\translate\\bleu_score.py:516: UserWarning: \n",
      "The hypothesis contains 0 counts of 3-gram overlaps.\n",
      "Therefore the BLEU score evaluates to 0, independently of\n",
      "how many N-gram overlaps of lower order it contains.\n",
      "Consider using lower n-gram order or use SmoothingFunction()\n",
      "  warnings.warn(_msg)\n",
      "C:\\Utilities\\anaconda\\envs\\py36\\lib\\site-packages\\nltk\\translate\\bleu_score.py:516: UserWarning: \n",
      "The hypothesis contains 0 counts of 4-gram overlaps.\n",
      "Therefore the BLEU score evaluates to 0, independently of\n",
      "how many N-gram overlaps of lower order it contains.\n",
      "Consider using lower n-gram order or use SmoothingFunction()\n",
      "  warnings.warn(_msg)\n",
      "C:\\Utilities\\anaconda\\envs\\py36\\lib\\site-packages\\nltk\\translate\\bleu_score.py:516: UserWarning: \n",
      "The hypothesis contains 0 counts of 2-gram overlaps.\n",
      "Therefore the BLEU score evaluates to 0, independently of\n",
      "how many N-gram overlaps of lower order it contains.\n",
      "Consider using lower n-gram order or use SmoothingFunction()\n",
      "  warnings.warn(_msg)\n"
     ]
    }
   ],
   "source": [
    "from nltk.translate.bleu_score import sentence_bleu\n",
    "\n",
    "def get_ngram_bleu(row):\n",
    "    s1, s2 = row['s1'], row['s2']\n",
    "    list_s1 = [[x for x in s1]]\n",
    "    list_s2 = [x for x in s2]\n",
    "    b1 = sentence_bleu(list_s1, list_s2, weights=(1, 0, 0, 0))\n",
    "    b2 = sentence_bleu(list_s1, list_s2, weights=(0.5, 0.5, 0, 0))\n",
    "    b3 = sentence_bleu(list_s1, list_s2, weights=(0.33, 0.33, 0.33, 0))\n",
    "    b4 = sentence_bleu(list_s1, list_s2, weights=(0.25, 0.25, 0.25, 0.25))\n",
    "    return b1, b2, b3, b4\n",
    "\n",
    "df[['bleu1','bleu2','bleu3','bleu4']]=df.apply(get_ngram_bleu, axis=1,result_type='expand')"
   ],
   "metadata": {
    "collapsed": false,
    "pycharm": {
     "name": "#%%\n"
    }
   }
  },
  {
   "cell_type": "code",
   "execution_count": 11,
   "outputs": [
    {
     "data": {
      "text/plain": "(102477, 27)"
     },
     "execution_count": 11,
     "metadata": {},
     "output_type": "execute_result"
    }
   ],
   "source": [
    "df.shape"
   ],
   "metadata": {
    "collapsed": false,
    "pycharm": {
     "name": "#%%\n"
    }
   }
  },
  {
   "cell_type": "code",
   "execution_count": 12,
   "outputs": [
    {
     "data": {
      "text/plain": "                     count       mean       std            min            25%  \\\nlabel             102477.0   0.182334  0.386121   0.000000e+00   0.000000e+00   \nlen_s1            102477.0  13.390956  6.111260   5.000000e+00   1.000000e+01   \nlen_s2            102477.0  13.404520  6.134927   3.000000e+00   1.000000e+01   \nlen_s1s2_avg      102477.0  13.397738  5.203689   5.000000e+00   1.000000e+01   \nlen_s1_on_s2      102477.0   1.085702  0.467466   8.974359e-02   7.692308e-01   \nlen_diff          102477.0  -0.013564  6.454159  -7.400000e+01  -3.000000e+00   \nedit_dst          102477.0  11.523649  6.212416   0.000000e+00   8.000000e+00   \nedit_dst_nzd      102477.0   0.838879  0.203561   0.000000e+00   7.058824e-01   \nlen_l1_tkd        102477.0   7.590913  3.520895   2.000000e+00   5.000000e+00   \nlen_l2_tkd        102477.0   7.595753  3.528848   0.000000e+00   5.000000e+00   \ncommon_wc         102477.0   3.158670  1.319571   0.000000e+00   2.000000e+00   \ns1_uq_wc          102477.0   4.121988  2.432259   0.000000e+00   2.000000e+00   \ns2_uq_wc          102477.0   4.381656  2.671540   0.000000e+00   3.000000e+00   \nlen_l1l2_tkd_avg  102477.0   7.593333  2.985514   2.000000e+00   5.500000e+00   \ncommon_wc_nzd     102477.0   0.372890  0.116051   0.000000e+00   3.000000e-01   \ns1_uq_wc_nzd      102477.0   0.460795  0.144927   0.000000e+00   3.750000e-01   \ns2_uq_wc_nzd      102477.0   0.486265  0.156896   0.000000e+00   4.000000e-01   \nbleu1             102477.0   0.452616  0.127786   2.065627e-03   3.750000e-01   \nbleu2             102477.0   0.336017  0.122626  9.634983e-156   2.552641e-01   \nbleu3             102477.0   0.176492  0.167539  6.085102e-205  1.315673e-102   \nbleu4             102477.0   0.099900  0.145708  1.280027e-232  7.855727e-155   \n\n                           50%        75%         max  \nlabel             0.000000e+00   0.000000    1.000000  \nlen_s1            1.200000e+01  15.000000   97.000000  \nlen_s2            1.200000e+01  15.000000  112.000000  \nlen_s1s2_avg      1.250000e+01  15.000000   83.000000  \nlen_s1_on_s2      1.000000e+00   1.300000    7.000000  \nlen_diff          0.000000e+00   3.000000   65.000000  \nedit_dst          1.000000e+01  14.000000   91.000000  \nedit_dst_nzd      8.571429e-01   1.000000    1.741176  \nlen_l1_tkd        7.000000e+00   9.000000   55.000000  \nlen_l2_tkd        7.000000e+00   9.000000   59.000000  \ncommon_wc         3.000000e+00   4.000000   27.000000  \ns1_uq_wc          4.000000e+00   5.000000   29.000000  \ns2_uq_wc          4.000000e+00   6.000000   32.000000  \nlen_l1l2_tkd_avg  7.000000e+00   8.500000   52.500000  \ncommon_wc_nzd     3.703704e-01   0.444444    0.869565  \ns1_uq_wc_nzd      5.000000e-01   0.571429    0.947368  \ns2_uq_wc_nzd      5.000000e-01   0.600000    1.142857  \nbleu1             4.448541e-01   0.530570    1.000000  \nbleu2             3.289758e-01   0.406745    1.000000  \nbleu3             1.863882e-01   0.297132    1.000000  \nbleu4             3.617015e-78   0.210993    1.000000  ",
      "text/html": "<div>\n<style scoped>\n    .dataframe tbody tr th:only-of-type {\n        vertical-align: middle;\n    }\n\n    .dataframe tbody tr th {\n        vertical-align: top;\n    }\n\n    .dataframe thead th {\n        text-align: right;\n    }\n</style>\n<table border=\"1\" class=\"dataframe\">\n  <thead>\n    <tr style=\"text-align: right;\">\n      <th></th>\n      <th>count</th>\n      <th>mean</th>\n      <th>std</th>\n      <th>min</th>\n      <th>25%</th>\n      <th>50%</th>\n      <th>75%</th>\n      <th>max</th>\n    </tr>\n  </thead>\n  <tbody>\n    <tr>\n      <th>label</th>\n      <td>102477.0</td>\n      <td>0.182334</td>\n      <td>0.386121</td>\n      <td>0.000000e+00</td>\n      <td>0.000000e+00</td>\n      <td>0.000000e+00</td>\n      <td>0.000000</td>\n      <td>1.000000</td>\n    </tr>\n    <tr>\n      <th>len_s1</th>\n      <td>102477.0</td>\n      <td>13.390956</td>\n      <td>6.111260</td>\n      <td>5.000000e+00</td>\n      <td>1.000000e+01</td>\n      <td>1.200000e+01</td>\n      <td>15.000000</td>\n      <td>97.000000</td>\n    </tr>\n    <tr>\n      <th>len_s2</th>\n      <td>102477.0</td>\n      <td>13.404520</td>\n      <td>6.134927</td>\n      <td>3.000000e+00</td>\n      <td>1.000000e+01</td>\n      <td>1.200000e+01</td>\n      <td>15.000000</td>\n      <td>112.000000</td>\n    </tr>\n    <tr>\n      <th>len_s1s2_avg</th>\n      <td>102477.0</td>\n      <td>13.397738</td>\n      <td>5.203689</td>\n      <td>5.000000e+00</td>\n      <td>1.000000e+01</td>\n      <td>1.250000e+01</td>\n      <td>15.000000</td>\n      <td>83.000000</td>\n    </tr>\n    <tr>\n      <th>len_s1_on_s2</th>\n      <td>102477.0</td>\n      <td>1.085702</td>\n      <td>0.467466</td>\n      <td>8.974359e-02</td>\n      <td>7.692308e-01</td>\n      <td>1.000000e+00</td>\n      <td>1.300000</td>\n      <td>7.000000</td>\n    </tr>\n    <tr>\n      <th>len_diff</th>\n      <td>102477.0</td>\n      <td>-0.013564</td>\n      <td>6.454159</td>\n      <td>-7.400000e+01</td>\n      <td>-3.000000e+00</td>\n      <td>0.000000e+00</td>\n      <td>3.000000</td>\n      <td>65.000000</td>\n    </tr>\n    <tr>\n      <th>edit_dst</th>\n      <td>102477.0</td>\n      <td>11.523649</td>\n      <td>6.212416</td>\n      <td>0.000000e+00</td>\n      <td>8.000000e+00</td>\n      <td>1.000000e+01</td>\n      <td>14.000000</td>\n      <td>91.000000</td>\n    </tr>\n    <tr>\n      <th>edit_dst_nzd</th>\n      <td>102477.0</td>\n      <td>0.838879</td>\n      <td>0.203561</td>\n      <td>0.000000e+00</td>\n      <td>7.058824e-01</td>\n      <td>8.571429e-01</td>\n      <td>1.000000</td>\n      <td>1.741176</td>\n    </tr>\n    <tr>\n      <th>len_l1_tkd</th>\n      <td>102477.0</td>\n      <td>7.590913</td>\n      <td>3.520895</td>\n      <td>2.000000e+00</td>\n      <td>5.000000e+00</td>\n      <td>7.000000e+00</td>\n      <td>9.000000</td>\n      <td>55.000000</td>\n    </tr>\n    <tr>\n      <th>len_l2_tkd</th>\n      <td>102477.0</td>\n      <td>7.595753</td>\n      <td>3.528848</td>\n      <td>0.000000e+00</td>\n      <td>5.000000e+00</td>\n      <td>7.000000e+00</td>\n      <td>9.000000</td>\n      <td>59.000000</td>\n    </tr>\n    <tr>\n      <th>common_wc</th>\n      <td>102477.0</td>\n      <td>3.158670</td>\n      <td>1.319571</td>\n      <td>0.000000e+00</td>\n      <td>2.000000e+00</td>\n      <td>3.000000e+00</td>\n      <td>4.000000</td>\n      <td>27.000000</td>\n    </tr>\n    <tr>\n      <th>s1_uq_wc</th>\n      <td>102477.0</td>\n      <td>4.121988</td>\n      <td>2.432259</td>\n      <td>0.000000e+00</td>\n      <td>2.000000e+00</td>\n      <td>4.000000e+00</td>\n      <td>5.000000</td>\n      <td>29.000000</td>\n    </tr>\n    <tr>\n      <th>s2_uq_wc</th>\n      <td>102477.0</td>\n      <td>4.381656</td>\n      <td>2.671540</td>\n      <td>0.000000e+00</td>\n      <td>3.000000e+00</td>\n      <td>4.000000e+00</td>\n      <td>6.000000</td>\n      <td>32.000000</td>\n    </tr>\n    <tr>\n      <th>len_l1l2_tkd_avg</th>\n      <td>102477.0</td>\n      <td>7.593333</td>\n      <td>2.985514</td>\n      <td>2.000000e+00</td>\n      <td>5.500000e+00</td>\n      <td>7.000000e+00</td>\n      <td>8.500000</td>\n      <td>52.500000</td>\n    </tr>\n    <tr>\n      <th>common_wc_nzd</th>\n      <td>102477.0</td>\n      <td>0.372890</td>\n      <td>0.116051</td>\n      <td>0.000000e+00</td>\n      <td>3.000000e-01</td>\n      <td>3.703704e-01</td>\n      <td>0.444444</td>\n      <td>0.869565</td>\n    </tr>\n    <tr>\n      <th>s1_uq_wc_nzd</th>\n      <td>102477.0</td>\n      <td>0.460795</td>\n      <td>0.144927</td>\n      <td>0.000000e+00</td>\n      <td>3.750000e-01</td>\n      <td>5.000000e-01</td>\n      <td>0.571429</td>\n      <td>0.947368</td>\n    </tr>\n    <tr>\n      <th>s2_uq_wc_nzd</th>\n      <td>102477.0</td>\n      <td>0.486265</td>\n      <td>0.156896</td>\n      <td>0.000000e+00</td>\n      <td>4.000000e-01</td>\n      <td>5.000000e-01</td>\n      <td>0.600000</td>\n      <td>1.142857</td>\n    </tr>\n    <tr>\n      <th>bleu1</th>\n      <td>102477.0</td>\n      <td>0.452616</td>\n      <td>0.127786</td>\n      <td>2.065627e-03</td>\n      <td>3.750000e-01</td>\n      <td>4.448541e-01</td>\n      <td>0.530570</td>\n      <td>1.000000</td>\n    </tr>\n    <tr>\n      <th>bleu2</th>\n      <td>102477.0</td>\n      <td>0.336017</td>\n      <td>0.122626</td>\n      <td>9.634983e-156</td>\n      <td>2.552641e-01</td>\n      <td>3.289758e-01</td>\n      <td>0.406745</td>\n      <td>1.000000</td>\n    </tr>\n    <tr>\n      <th>bleu3</th>\n      <td>102477.0</td>\n      <td>0.176492</td>\n      <td>0.167539</td>\n      <td>6.085102e-205</td>\n      <td>1.315673e-102</td>\n      <td>1.863882e-01</td>\n      <td>0.297132</td>\n      <td>1.000000</td>\n    </tr>\n    <tr>\n      <th>bleu4</th>\n      <td>102477.0</td>\n      <td>0.099900</td>\n      <td>0.145708</td>\n      <td>1.280027e-232</td>\n      <td>7.855727e-155</td>\n      <td>3.617015e-78</td>\n      <td>0.210993</td>\n      <td>1.000000</td>\n    </tr>\n  </tbody>\n</table>\n</div>"
     },
     "execution_count": 12,
     "metadata": {},
     "output_type": "execute_result"
    }
   ],
   "source": [
    "df.describe().T"
   ],
   "metadata": {
    "collapsed": false,
    "pycharm": {
     "name": "#%%\n"
    }
   }
  },
  {
   "cell_type": "code",
   "execution_count": 13,
   "outputs": [],
   "source": [
    "df.to_csv('../data/trd_feated.csv',index=False)\n",
    "\n",
    "\n"
   ],
   "metadata": {
    "collapsed": false,
    "pycharm": {
     "name": "#%%\n"
    }
   }
  }
 ],
 "metadata": {
  "kernelspec": {
   "name": "py36",
   "language": "python",
   "display_name": "py36"
  },
  "language_info": {
   "codemirror_mode": {
    "name": "ipython",
    "version": 2
   },
   "file_extension": ".py",
   "mimetype": "text/x-python",
   "name": "python",
   "nbconvert_exporter": "python",
   "pygments_lexer": "ipython2",
   "version": "2.7.6"
  }
 },
 "nbformat": 4,
 "nbformat_minor": 0
}